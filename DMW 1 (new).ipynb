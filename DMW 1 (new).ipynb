{
 "cells": [
  {
   "cell_type": "markdown",
   "id": "6dd24503",
   "metadata": {},
   "source": [
    "# # Notebook kelompok 4 kelas C2 angkatan 2020\n",
    "1. Salsabila Kanaya\n",
    "2. Shafa Meira Wahyono (2007723)\n",
    "3. Sri Nanda Ameliani\n",
    "4. Yosafat\n",
    "\n",
    "Pada tugas ini, kami menganalisa data penerima vaksin Gotong Royong provinsi DKI Jakarta pada bulan Juli tahun 2021"
   ]
  },
  {
   "cell_type": "code",
   "execution_count": 2,
   "id": "e69a6bd2",
   "metadata": {},
   "outputs": [],
   "source": [
    "%matplotlib inline\n",
    "import numpy as nphttps://files.000webhost.com/\n",
    "import pandas as pd\n",
    "import matplotlib.pyplot as plt\n",
    "import seaborn as sns"
   ]
  },
  {
   "cell_type": "code",
   "execution_count": 4,
   "id": "26c48194",
   "metadata": {
    "scrolled": true
   },
   "outputs": [
    {
     "data": {
      "text/html": [
       "<div>\n",
       "<style scoped>\n",
       "    .dataframe tbody tr th:only-of-type {\n",
       "        vertical-align: middle;\n",
       "    }\n",
       "\n",
       "    .dataframe tbody tr th {\n",
       "        vertical-align: top;\n",
       "    }\n",
       "\n",
       "    .dataframe thead th {\n",
       "        text-align: right;\n",
       "    }\n",
       "</style>\n",
       "<table border=\"1\" class=\"dataframe\">\n",
       "  <thead>\n",
       "    <tr style=\"text-align: right;\">\n",
       "      <th></th>\n",
       "      <th>Rank</th>\n",
       "      <th>Name</th>\n",
       "      <th>Platform</th>\n",
       "      <th>Year</th>\n",
       "      <th>Genre</th>\n",
       "      <th>Publisher</th>\n",
       "      <th>NA_Sales</th>\n",
       "      <th>EU_Sales</th>\n",
       "      <th>JP_Sales</th>\n",
       "      <th>Other_Sales</th>\n",
       "      <th>Global_Sales</th>\n",
       "    </tr>\n",
       "  </thead>\n",
       "  <tbody>\n",
       "    <tr>\n",
       "      <th>0</th>\n",
       "      <td>1</td>\n",
       "      <td>Wii Sports</td>\n",
       "      <td>Wii</td>\n",
       "      <td>2006.0</td>\n",
       "      <td>Sports</td>\n",
       "      <td>Nintendo</td>\n",
       "      <td>41.49</td>\n",
       "      <td>29.02</td>\n",
       "      <td>3.77</td>\n",
       "      <td>8.46</td>\n",
       "      <td>82.74</td>\n",
       "    </tr>\n",
       "    <tr>\n",
       "      <th>1</th>\n",
       "      <td>2</td>\n",
       "      <td>Super Mario Bros.</td>\n",
       "      <td>NES</td>\n",
       "      <td>1985.0</td>\n",
       "      <td>Platform</td>\n",
       "      <td>Nintendo</td>\n",
       "      <td>29.08</td>\n",
       "      <td>3.58</td>\n",
       "      <td>6.81</td>\n",
       "      <td>0.77</td>\n",
       "      <td>40.24</td>\n",
       "    </tr>\n",
       "    <tr>\n",
       "      <th>2</th>\n",
       "      <td>3</td>\n",
       "      <td>Mario Kart Wii</td>\n",
       "      <td>Wii</td>\n",
       "      <td>2008.0</td>\n",
       "      <td>Racing</td>\n",
       "      <td>Nintendo</td>\n",
       "      <td>15.85</td>\n",
       "      <td>12.88</td>\n",
       "      <td>3.79</td>\n",
       "      <td>3.31</td>\n",
       "      <td>35.82</td>\n",
       "    </tr>\n",
       "    <tr>\n",
       "      <th>3</th>\n",
       "      <td>4</td>\n",
       "      <td>Wii Sports Resort</td>\n",
       "      <td>Wii</td>\n",
       "      <td>2009.0</td>\n",
       "      <td>Sports</td>\n",
       "      <td>Nintendo</td>\n",
       "      <td>15.75</td>\n",
       "      <td>11.01</td>\n",
       "      <td>3.28</td>\n",
       "      <td>2.96</td>\n",
       "      <td>33.00</td>\n",
       "    </tr>\n",
       "    <tr>\n",
       "      <th>4</th>\n",
       "      <td>5</td>\n",
       "      <td>Pokemon Red/Pokemon Blue</td>\n",
       "      <td>GB</td>\n",
       "      <td>1996.0</td>\n",
       "      <td>Role-Playing</td>\n",
       "      <td>Nintendo</td>\n",
       "      <td>11.27</td>\n",
       "      <td>8.89</td>\n",
       "      <td>10.22</td>\n",
       "      <td>1.00</td>\n",
       "      <td>31.37</td>\n",
       "    </tr>\n",
       "    <tr>\n",
       "      <th>...</th>\n",
       "      <td>...</td>\n",
       "      <td>...</td>\n",
       "      <td>...</td>\n",
       "      <td>...</td>\n",
       "      <td>...</td>\n",
       "      <td>...</td>\n",
       "      <td>...</td>\n",
       "      <td>...</td>\n",
       "      <td>...</td>\n",
       "      <td>...</td>\n",
       "      <td>...</td>\n",
       "    </tr>\n",
       "    <tr>\n",
       "      <th>4995</th>\n",
       "      <td>4997</td>\n",
       "      <td>Peppa Pig: The Game</td>\n",
       "      <td>Wii</td>\n",
       "      <td>2009.0</td>\n",
       "      <td>Misc</td>\n",
       "      <td>Pinnacle</td>\n",
       "      <td>0.00</td>\n",
       "      <td>0.35</td>\n",
       "      <td>0.00</td>\n",
       "      <td>0.03</td>\n",
       "      <td>0.38</td>\n",
       "    </tr>\n",
       "    <tr>\n",
       "      <th>4996</th>\n",
       "      <td>4998</td>\n",
       "      <td>God Eater 2: Rage Burst</td>\n",
       "      <td>PSV</td>\n",
       "      <td>2015.0</td>\n",
       "      <td>Role-Playing</td>\n",
       "      <td>Namco Bandai Games</td>\n",
       "      <td>0.00</td>\n",
       "      <td>0.01</td>\n",
       "      <td>0.37</td>\n",
       "      <td>0.00</td>\n",
       "      <td>0.38</td>\n",
       "    </tr>\n",
       "    <tr>\n",
       "      <th>4997</th>\n",
       "      <td>4999</td>\n",
       "      <td>Get Fit with Mel B</td>\n",
       "      <td>PS3</td>\n",
       "      <td>2010.0</td>\n",
       "      <td>Sports</td>\n",
       "      <td>Black Bean Games</td>\n",
       "      <td>0.15</td>\n",
       "      <td>0.17</td>\n",
       "      <td>0.00</td>\n",
       "      <td>0.07</td>\n",
       "      <td>0.38</td>\n",
       "    </tr>\n",
       "    <tr>\n",
       "      <th>4998</th>\n",
       "      <td>5000</td>\n",
       "      <td>The Cat in the Hat</td>\n",
       "      <td>GBA</td>\n",
       "      <td>2005.0</td>\n",
       "      <td>Platform</td>\n",
       "      <td>Jack of All Games</td>\n",
       "      <td>0.27</td>\n",
       "      <td>0.10</td>\n",
       "      <td>0.00</td>\n",
       "      <td>0.01</td>\n",
       "      <td>0.38</td>\n",
       "    </tr>\n",
       "    <tr>\n",
       "      <th>4999</th>\n",
       "      <td>5001</td>\n",
       "      <td>Naruto Shippuden: Ultimate Ninja Heroes 3</td>\n",
       "      <td>PSP</td>\n",
       "      <td>2009.0</td>\n",
       "      <td>Fighting</td>\n",
       "      <td>Namco Bandai Games</td>\n",
       "      <td>0.13</td>\n",
       "      <td>0.04</td>\n",
       "      <td>0.19</td>\n",
       "      <td>0.03</td>\n",
       "      <td>0.38</td>\n",
       "    </tr>\n",
       "  </tbody>\n",
       "</table>\n",
       "<p>5000 rows × 11 columns</p>\n",
       "</div>"
      ],
      "text/plain": [
       "      Rank                                       Name Platform    Year  \\\n",
       "0        1                                 Wii Sports      Wii  2006.0   \n",
       "1        2                          Super Mario Bros.      NES  1985.0   \n",
       "2        3                             Mario Kart Wii      Wii  2008.0   \n",
       "3        4                          Wii Sports Resort      Wii  2009.0   \n",
       "4        5                   Pokemon Red/Pokemon Blue       GB  1996.0   \n",
       "...    ...                                        ...      ...     ...   \n",
       "4995  4997                        Peppa Pig: The Game      Wii  2009.0   \n",
       "4996  4998                    God Eater 2: Rage Burst      PSV  2015.0   \n",
       "4997  4999                         Get Fit with Mel B      PS3  2010.0   \n",
       "4998  5000                         The Cat in the Hat      GBA  2005.0   \n",
       "4999  5001  Naruto Shippuden: Ultimate Ninja Heroes 3      PSP  2009.0   \n",
       "\n",
       "             Genre           Publisher  NA_Sales  EU_Sales  JP_Sales  \\\n",
       "0           Sports            Nintendo     41.49     29.02      3.77   \n",
       "1         Platform            Nintendo     29.08      3.58      6.81   \n",
       "2           Racing            Nintendo     15.85     12.88      3.79   \n",
       "3           Sports            Nintendo     15.75     11.01      3.28   \n",
       "4     Role-Playing            Nintendo     11.27      8.89     10.22   \n",
       "...            ...                 ...       ...       ...       ...   \n",
       "4995          Misc            Pinnacle      0.00      0.35      0.00   \n",
       "4996  Role-Playing  Namco Bandai Games      0.00      0.01      0.37   \n",
       "4997        Sports    Black Bean Games      0.15      0.17      0.00   \n",
       "4998      Platform   Jack of All Games      0.27      0.10      0.00   \n",
       "4999      Fighting  Namco Bandai Games      0.13      0.04      0.19   \n",
       "\n",
       "      Other_Sales  Global_Sales  \n",
       "0            8.46         82.74  \n",
       "1            0.77         40.24  \n",
       "2            3.31         35.82  \n",
       "3            2.96         33.00  \n",
       "4            1.00         31.37  \n",
       "...           ...           ...  \n",
       "4995         0.03          0.38  \n",
       "4996         0.00          0.38  \n",
       "4997         0.07          0.38  \n",
       "4998         0.01          0.38  \n",
       "4999         0.03          0.38  \n",
       "\n",
       "[5000 rows x 11 columns]"
      ]
     },
     "execution_count": 4,
     "metadata": {},
     "output_type": "execute_result"
    }
   ],
   "source": [
    " df = pd.read_csv(\"C:\\\\Users\\\\erric isnaini\\\\Documents\\\\Data covid\\\\vgsales.csv\") #sesuaikan path\n",
    "df.head(5000)"
   ]
  },
  {
   "cell_type": "code",
   "execution_count": 5,
   "id": "4b661b3a",
   "metadata": {},
   "outputs": [
    {
     "name": "stdout",
     "output_type": "stream",
     "text": [
      "<class 'pandas.core.frame.DataFrame'>\n",
      "RangeIndex: 16598 entries, 0 to 16597\n",
      "Data columns (total 11 columns):\n",
      " #   Column        Non-Null Count  Dtype  \n",
      "---  ------        --------------  -----  \n",
      " 0   Rank          16598 non-null  int64  \n",
      " 1   Name          16598 non-null  object \n",
      " 2   Platform      16598 non-null  object \n",
      " 3   Year          16327 non-null  float64\n",
      " 4   Genre         16598 non-null  object \n",
      " 5   Publisher     16540 non-null  object \n",
      " 6   NA_Sales      16598 non-null  float64\n",
      " 7   EU_Sales      16598 non-null  float64\n",
      " 8   JP_Sales      16598 non-null  float64\n",
      " 9   Other_Sales   16598 non-null  float64\n",
      " 10  Global_Sales  16598 non-null  float64\n",
      "dtypes: float64(6), int64(1), object(4)\n",
      "memory usage: 1.4+ MB\n"
     ]
    }
   ],
   "source": [
    "df.info()"
   ]
  },
  {
   "cell_type": "code",
   "execution_count": 6,
   "id": "55401d23",
   "metadata": {},
   "outputs": [
    {
     "data": {
      "text/plain": [
       "Rank              0\n",
       "Name              0\n",
       "Platform          0\n",
       "Year            271\n",
       "Genre             0\n",
       "Publisher        58\n",
       "NA_Sales          0\n",
       "EU_Sales          0\n",
       "JP_Sales          0\n",
       "Other_Sales       0\n",
       "Global_Sales      0\n",
       "dtype: int64"
      ]
     },
     "execution_count": 6,
     "metadata": {},
     "output_type": "execute_result"
    }
   ],
   "source": [
    "df.isnull().sum()"
   ]
  },
  {
   "cell_type": "markdown",
   "id": "1a90a275",
   "metadata": {},
   "source": [
    "Terdapat data yang kosong, yaitu atribut Year dan Genre. Oleh karena itu, dilakukan praproses berupa mengisikan data yang kosong."
   ]
  },
  {
   "cell_type": "markdown",
   "id": "58f0e5d0",
   "metadata": {},
   "source": [
    "# Eksplorasi Data"
   ]
  },
  {
   "cell_type": "code",
   "execution_count": 9,
   "id": "bbb69455",
   "metadata": {},
   "outputs": [
    {
     "data": {
      "text/plain": [
       "<AxesSubplot:xlabel='Platform', ylabel='count'>"
      ]
     },
     "execution_count": 9,
     "metadata": {},
     "output_type": "execute_result"
    },
    {
     "data": {
      "image/png": "[encoded data removed]",
      "text/plain": [
       "<Figure size 1440x360 with 1 Axes>"
      ]
     },
     "metadata": {
      "needs_background": "light"
     },
     "output_type": "display_data"
    }
   ],
   "source": [
    "fig, ax = plt.subplots(figsize=(20, 5)) #atur ukuran chart\n",
    "sns.countplot(ax=ax, x=\"Platform\", data=df)"
   ]
  },
  {
   "cell_type": "markdown",
   "id": "8554bb17",
   "metadata": {},
   "source": [
    "Terlihat bahwa data cukup ekstrem dengan detail platform DS dan PS2 mencapai titik penjualan tertinggi. Sedangkan, Platform SCD, WS, NG, TG16, 3DO, GG, dan PCFX memiliki data yang sedikit hingga mendekati 0 (tidak ada data)."
   ]
  },
  {
   "cell_type": "code",
   "execution_count": 31,
   "id": "02f10ac5",
   "metadata": {
    "scrolled": true
   },
   "outputs": [
    {
     "data": {
      "text/html": [
       "<div>\n",
       "<style scoped>\n",
       "    .dataframe tbody tr th:only-of-type {\n",
       "        vertical-align: middle;\n",
       "    }\n",
       "\n",
       "    .dataframe tbody tr th {\n",
       "        vertical-align: top;\n",
       "    }\n",
       "\n",
       "    .dataframe thead th {\n",
       "        text-align: right;\n",
       "    }\n",
       "</style>\n",
       "<table border=\"1\" class=\"dataframe\">\n",
       "  <thead>\n",
       "    <tr style=\"text-align: right;\">\n",
       "      <th></th>\n",
       "      <th>Global_Sales</th>\n",
       "    </tr>\n",
       "  </thead>\n",
       "  <tbody>\n",
       "    <tr>\n",
       "      <th>count</th>\n",
       "      <td>16598.000000</td>\n",
       "    </tr>\n",
       "    <tr>\n",
       "      <th>mean</th>\n",
       "      <td>0.537441</td>\n",
       "    </tr>\n",
       "    <tr>\n",
       "      <th>std</th>\n",
       "      <td>1.555028</td>\n",
       "    </tr>\n",
       "    <tr>\n",
       "      <th>min</th>\n",
       "      <td>0.010000</td>\n",
       "    </tr>\n",
       "    <tr>\n",
       "      <th>25%</th>\n",
       "      <td>0.060000</td>\n",
       "    </tr>\n",
       "    <tr>\n",
       "      <th>50%</th>\n",
       "      <td>0.170000</td>\n",
       "    </tr>\n",
       "    <tr>\n",
       "      <th>75%</th>\n",
       "      <td>0.470000</td>\n",
       "    </tr>\n",
       "    <tr>\n",
       "      <th>max</th>\n",
       "      <td>82.740000</td>\n",
       "    </tr>\n",
       "  </tbody>\n",
       "</table>\n",
       "</div>"
      ],
      "text/plain": [
       "       Global_Sales\n",
       "count  16598.000000\n",
       "mean       0.537441\n",
       "std        1.555028\n",
       "min        0.010000\n",
       "25%        0.060000\n",
       "50%        0.170000\n",
       "75%        0.470000\n",
       "max       82.740000"
      ]
     },
     "execution_count": 31,
     "metadata": {},
     "output_type": "execute_result"
    }
   ],
   "source": [
    "df[['Global_Sales']].describe()"
   ]
  },
  {
   "cell_type": "markdown",
   "id": "92f2acad",
   "metadata": {},
   "source": [
    "Dari tabel di atas, dapat ditarik kesimpulan bahwa penjualan biasanya cukup rendah karena titik maksimum penjualan berada jauh  di atas quartil 3."
   ]
  },
  {
   "cell_type": "code",
   "execution_count": 11,
   "id": "731096ef",
   "metadata": {},
   "outputs": [
    {
     "data": {
      "text/plain": [
       "<AxesSubplot:xlabel='Year', ylabel='Count'>"
      ]
     },
     "execution_count": 11,
     "metadata": {},
     "output_type": "execute_result"
    },
    {
     "data": {
      "image/png": "[encoded data removed]",
      "text/plain": [
       "<Figure size 432x288 with 1 Axes>"
      ]
     },
     "metadata": {
      "needs_background": "light"
     },
     "output_type": "display_data"
    }
   ],
   "source": [
    "sns.histplot(data=df, x=\"Year\")"
   ]
  },
  {
   "cell_type": "markdown",
   "id": "a9e54e7f",
   "metadata": {},
   "source": [
    "Dilihat dari grafik di atas, penjualan video games potensi yang tinggi. Walaupun faktanya pada tahun setelah 2009 mengalami\n",
    "penurunan, hal itu terjadi karena resesi ekonomi global."
   ]
  },
  {
   "cell_type": "code",
   "execution_count": 17,
   "id": "d63144db",
   "metadata": {},
   "outputs": [
    {
     "data": {
      "text/html": [
       "<div>\n",
       "<style scoped>\n",
       "    .dataframe tbody tr th:only-of-type {\n",
       "        vertical-align: middle;\n",
       "    }\n",
       "\n",
       "    .dataframe tbody tr th {\n",
       "        vertical-align: top;\n",
       "    }\n",
       "\n",
       "    .dataframe thead th {\n",
       "        text-align: right;\n",
       "    }\n",
       "</style>\n",
       "<table border=\"1\" class=\"dataframe\">\n",
       "  <thead>\n",
       "    <tr style=\"text-align: right;\">\n",
       "      <th></th>\n",
       "      <th>Name</th>\n",
       "      <th>Platform</th>\n",
       "      <th>Publisher</th>\n",
       "      <th>Global_Sales</th>\n",
       "    </tr>\n",
       "  </thead>\n",
       "  <tbody>\n",
       "    <tr>\n",
       "      <th>3</th>\n",
       "      <td>Wii Sports Resort</td>\n",
       "      <td>Wii</td>\n",
       "      <td>Nintendo</td>\n",
       "      <td>33.00</td>\n",
       "    </tr>\n",
       "    <tr>\n",
       "      <th>8</th>\n",
       "      <td>New Super Mario Bros. Wii</td>\n",
       "      <td>Wii</td>\n",
       "      <td>Nintendo</td>\n",
       "      <td>28.62</td>\n",
       "    </tr>\n",
       "    <tr>\n",
       "      <th>14</th>\n",
       "      <td>Wii Fit Plus</td>\n",
       "      <td>Wii</td>\n",
       "      <td>Nintendo</td>\n",
       "      <td>22.00</td>\n",
       "    </tr>\n",
       "    <tr>\n",
       "      <th>36</th>\n",
       "      <td>Call of Duty: Modern Warfare 2</td>\n",
       "      <td>X360</td>\n",
       "      <td>Activision</td>\n",
       "      <td>13.51</td>\n",
       "    </tr>\n",
       "    <tr>\n",
       "      <th>45</th>\n",
       "      <td>Pokemon HeartGold/Pokemon SoulSilver</td>\n",
       "      <td>DS</td>\n",
       "      <td>Nintendo</td>\n",
       "      <td>11.90</td>\n",
       "    </tr>\n",
       "    <tr>\n",
       "      <th>...</th>\n",
       "      <td>...</td>\n",
       "      <td>...</td>\n",
       "      <td>...</td>\n",
       "      <td>...</td>\n",
       "    </tr>\n",
       "    <tr>\n",
       "      <th>16540</th>\n",
       "      <td>15 Days</td>\n",
       "      <td>PC</td>\n",
       "      <td>DTP Entertainment</td>\n",
       "      <td>0.01</td>\n",
       "    </tr>\n",
       "    <tr>\n",
       "      <th>16551</th>\n",
       "      <td>Sweet Honey Coming</td>\n",
       "      <td>PS2</td>\n",
       "      <td>Kadokawa Shoten</td>\n",
       "      <td>0.01</td>\n",
       "    </tr>\n",
       "    <tr>\n",
       "      <th>16577</th>\n",
       "      <td>Damnation</td>\n",
       "      <td>PC</td>\n",
       "      <td>Codemasters</td>\n",
       "      <td>0.01</td>\n",
       "    </tr>\n",
       "    <tr>\n",
       "      <th>16586</th>\n",
       "      <td>Secret Files 2: Puritas Cordis</td>\n",
       "      <td>DS</td>\n",
       "      <td>Deep Silver</td>\n",
       "      <td>0.01</td>\n",
       "    </tr>\n",
       "    <tr>\n",
       "      <th>16587</th>\n",
       "      <td>Mezase!! Tsuri Master DS</td>\n",
       "      <td>DS</td>\n",
       "      <td>Hudson Soft</td>\n",
       "      <td>0.01</td>\n",
       "    </tr>\n",
       "  </tbody>\n",
       "</table>\n",
       "<p>1431 rows × 4 columns</p>\n",
       "</div>"
      ],
      "text/plain": [
       "                                       Name Platform          Publisher  \\\n",
       "3                         Wii Sports Resort      Wii           Nintendo   \n",
       "8                 New Super Mario Bros. Wii      Wii           Nintendo   \n",
       "14                             Wii Fit Plus      Wii           Nintendo   \n",
       "36           Call of Duty: Modern Warfare 2     X360         Activision   \n",
       "45     Pokemon HeartGold/Pokemon SoulSilver       DS           Nintendo   \n",
       "...                                     ...      ...                ...   \n",
       "16540                               15 Days       PC  DTP Entertainment   \n",
       "16551                    Sweet Honey Coming      PS2    Kadokawa Shoten   \n",
       "16577                             Damnation       PC        Codemasters   \n",
       "16586        Secret Files 2: Puritas Cordis       DS        Deep Silver   \n",
       "16587              Mezase!! Tsuri Master DS       DS        Hudson Soft   \n",
       "\n",
       "       Global_Sales  \n",
       "3             33.00  \n",
       "8             28.62  \n",
       "14            22.00  \n",
       "36            13.51  \n",
       "45            11.90  \n",
       "...             ...  \n",
       "16540          0.01  \n",
       "16551          0.01  \n",
       "16577          0.01  \n",
       "16586          0.01  \n",
       "16587          0.01  \n",
       "\n",
       "[1431 rows x 4 columns]"
      ]
     },
     "execution_count": 17,
     "metadata": {},
     "output_type": "execute_result"
    }
   ],
   "source": [
    "df[(df.Year == 2009)][[\"Name\", \"Platform\", \"Publisher\", \"Global_Sales\"]]"
   ]
  },
  {
   "cell_type": "markdown",
   "id": "d5646f14",
   "metadata": {},
   "source": [
    "Dari grafik di atas, dapat dilihat bahwa pada tahun 2009 penjualan game mencapai titik tertinggi. "
   ]
  },
  {
   "cell_type": "code",
   "execution_count": null,
   "id": "4881255d",
   "metadata": {},
   "outputs": [],
   "source": [
    "sns.boxplot(x=df.Year.value_counts(),data=df) "
   ]
  },
  {
   "cell_type": "code",
   "execution_count": 27,
   "id": "7015684e",
   "metadata": {},
   "outputs": [
    {
     "data": {
      "image/png": "[encoded data removed]",
      "text/plain": [
       "<Figure size 2600x216 with 12 Axes>"
      ]
     },
     "metadata": {
      "needs_background": "light"
     },
     "output_type": "display_data"
    }
   ],
   "source": [
    "g = sns.FacetGrid(df, col=\"Genre\")\n",
    "g.map(plt.scatter, \"JP_Sales\", \"EU_Sales\", alpha=.7)\n",
    "g.add_legend();"
   ]
  },
  {
   "cell_type": "code",
   "execution_count": 29,
   "id": "2399f45d",
   "metadata": {},
   "outputs": [
    {
     "data": {
      "image/png": "[encoded data removed]",
      "text/plain": [
       "<Figure size 2600x216 with 12 Axes>"
      ]
     },
     "metadata": {
      "needs_background": "light"
     },
     "output_type": "display_data"
    }
   ],
   "source": [
    "g = sns.FacetGrid(df, col=\"Genre\")\n",
    "g.map(plt.scatter, \"JP_Sales\", \"NA_Sales\", alpha=.7)\n",
    "g.add_legend();"
   ]
  },
  {
   "cell_type": "code",
   "execution_count": 28,
   "id": "7f0a4f7a",
   "metadata": {
    "scrolled": true
   },
   "outputs": [
    {
     "data": {
      "image/png": "[encoded data removed]",
      "text/plain": [
       "<Figure size 2600x216 with 12 Axes>"
      ]
     },
     "metadata": {
      "needs_background": "light"
     },
     "output_type": "display_data"
    }
   ],
   "source": [
    "g = sns.FacetGrid(df, col=\"Genre\")\n",
    "g.map(plt.scatter, \"NA_Sales\", \"EU_Sales\", alpha=.7)\n",
    "g.add_legend();"
   ]
  },
  {
   "cell_type": "markdown",
   "id": "224f64a6",
   "metadata": {},
   "source": [
    "Dari 3 grafik scatterplot di atas, yaitu penjualan JP-EU, JP-NA, dan EU-NA hanya 1 skenario yang dapat digunakan, yaitu perbandingan penjualan antara EU-NA karena penjualan JP tidak akan seimbang, jika dibandingkan dengan EU ataupun NA. \n",
    "\n",
    "Dari grafik penjualan EU-NA, NA memiliki minat yang kuat pada genre shooter, lalu EU dan NA memiliki minat yang sama-sama kuat pada genre sport."
   ]
  },
  {
   "cell_type": "code",
   "execution_count": 32,
   "id": "5f0a0c76",
   "metadata": {},
   "outputs": [
    {
     "data": {
      "image/png": "[encoded data removed]",
      "text/plain": [
       "<Figure size 432x288 with 2 Axes>"
      ]
     },
     "metadata": {
      "needs_background": "light"
     },
     "output_type": "display_data"
    }
   ],
   "source": [
    "corr = df[[\"EU_Sales\",\"NA_Sales\",\"JP_Sales\", \"Other_Sales\", \"Global_Sales\"]].corr()\n",
    "ax = sns.heatmap(corr)"
   ]
  },
  {
   "cell_type": "code",
   "execution_count": null,
   "id": "3efc85cd",
   "metadata": {},
   "outputs": [],
   "source": [
    "jp other --> jomplang bgt\n",
    "jp - eu & na --> memiiki tingkat korelasi yg sama (eu na) & rendah"
   ]
  }
 ],
 "metadata": {
  "kernelspec": {
   "display_name": "Python 3",
   "language": "python",
   "name": "python3"
  }
 },
 "nbformat": 4,
 "nbformat_minor": 5
}
