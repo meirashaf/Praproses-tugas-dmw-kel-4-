{
 "cells": [
  {
   "cell_type": "markdown",
   "id": "a998e6dc",
   "metadata": {},
   "source": [
    "# Model Klasifikasi \n",
    "## Kelompok 4:\n",
    "\n",
    "- Salsabila Kanaya (2001360)\n",
    "- Shafa Meira Wahyono (2007723)\n",
    "- Sri Nanda Ameliani (2008196)\n",
    "- Yosafat (2009929)\n",
    "\n",
    "## Sumber Dataset\n",
    "**Link**: https://www.data-mining-cup.com/reviews/dmc-2019/\n",
    "\n",
    "## Overview\n",
    "Beberapa supermarket telah menggunakan sistem *self-scanning* yang memperbolehkan pelanggan untuk meng-*scan* sendiri produk yang ingin dibeli (tidak ada bantuan dari pegawai). Namun, hal ini berisiko pada penipuan yang dilakukan pelanggan dengan cara tidak meng-*scan* barang yang akan dibeli ataupun murni karena kesalahan pada mesin. \n",
    "\n",
    "Sebagai tindakan awal untuk menentukan suatu transaksi apakah terindikasi *fraud* atau tidak, maka dibutuhkan model klasifikasi. Dari hasil model tersebut, selanjutnya akan dilakukan *targeted follow-up check*, yaitu proses memeriksa target yang terindikasi *fraud*. Untuk melakukan hal tersebut, diperlukan sebuah model yang awalnya dibuat dari data training. \n",
    "\n",
    "## Task\n",
    "Tujuan dari notebook ini adalah untuk menentukan model klasifikasi yang paling optimal dalam mendeteksi *fraud* menggunakan data training yang sudah ada. Untuk menentukan apakah model yang dibuat bagus atau tidak akan terlihat pada output yang keluar."
   ]
  },
  {
   "cell_type": "markdown",
   "id": "a1d1c5a9",
   "metadata": {},
   "source": [
    "## Keterangan Atribut\n",
    "\n",
    "- **trustLevel** = tingkat kepercayaan secara individu (6 menandakan kepercayaan atau *trust* tertinggi)\n",
    "- **totalScanTimeInSeconds** = total waktu (detik) antara produk pertama dan terakhir yang di-*scan* (bilangan bulat positif)\n",
    "- **grandTotal** = jumlah produk yang di-*scan* (bilangan desimal positif dengan 2 angka dibelakang koma)\n",
    "- **lineItemVoids** = jumlah *scan* yang dibatalkan (bilangan bulat positif)\n",
    "- **scansWithoutRegistration** = jumlah upaya mengaktifkan *scanner* tanpa benar-benar melakukan proses *scanning*  (bilangan bulat positif atau 0)\n",
    "- **quantityModification** = jumlah kuantitas produk yang diubah (bilangan bulat positif atau 0)\n",
    "- **scannedLineItemsPerSecond** =  jumlah rata-rata produk per detik (bilangan desimal positif)\n",
    "- **valuePerSecond** = rata-rata nilai total produk yang di-*scan* per detik (bilangan desimal positif)\n",
    "- **lineItemVoidsPerPosition** = jumlah rata-rata item yang kosong per jumlah total semua produk yang di-scan dan tidak dibatalkan (bilangan desimal positif)\n",
    "- **fraud** = klasifikasi sebagai penipuan atau bukan penipuan (1 = *fraud*, 0 = *not fraud*)"
   ]
  },
  {
   "cell_type": "markdown",
   "id": "ad57716a",
   "metadata": {},
   "source": [
    "# Import library"
   ]
  },
  {
   "cell_type": "code",
   "execution_count": 1,
   "id": "d686dd78",
   "metadata": {},
   "outputs": [],
   "source": [
    "%matplotlib inline\n",
    "import numpy as np                  # library untuk matriks\n",
    "import pandas as pd                 # library untuk manipulasi dan analisis data\n",
    "import matplotlib.pyplot as plt     # library untuk visualisasi plot\n",
    "import seaborn as sns               # library untuk visualisasi plot\n",
    "import xgboost as xgb               # library untuk model klasifikasi"
   ]
  },
  {
   "cell_type": "markdown",
   "id": "0a2aea3b",
   "metadata": {},
   "source": [
    "# Read data "
   ]
  },
  {
   "cell_type": "code",
   "execution_count": 2,
   "id": "2c1cbcfd",
   "metadata": {},
   "outputs": [
    {
     "data": {
      "text/html": [
       "<div>\n",
       "<style scoped>\n",
       "    .dataframe tbody tr th:only-of-type {\n",
       "        vertical-align: middle;\n",
       "    }\n",
       "\n",
       "    .dataframe tbody tr th {\n",
       "        vertical-align: top;\n",
       "    }\n",
       "\n",
       "    .dataframe thead th {\n",
       "        text-align: right;\n",
       "    }\n",
       "</style>\n",
       "<table border=\"1\" class=\"dataframe\">\n",
       "  <thead>\n",
       "    <tr style=\"text-align: right;\">\n",
       "      <th></th>\n",
       "      <th>trustLevel</th>\n",
       "      <th>totalScanTimeInSeconds</th>\n",
       "      <th>grandTotal</th>\n",
       "      <th>lineItemVoids</th>\n",
       "      <th>scansWithoutRegistration</th>\n",
       "      <th>quantityModifications</th>\n",
       "      <th>scannedLineItemsPerSecond</th>\n",
       "      <th>valuePerSecond</th>\n",
       "      <th>lineItemVoidsPerPosition</th>\n",
       "      <th>fraud</th>\n",
       "    </tr>\n",
       "  </thead>\n",
       "  <tbody>\n",
       "    <tr>\n",
       "      <th>0</th>\n",
       "      <td>5</td>\n",
       "      <td>1054</td>\n",
       "      <td>54.70</td>\n",
       "      <td>7</td>\n",
       "      <td>0</td>\n",
       "      <td>3</td>\n",
       "      <td>0.027514</td>\n",
       "      <td>0.051898</td>\n",
       "      <td>0.241379</td>\n",
       "      <td>0</td>\n",
       "    </tr>\n",
       "    <tr>\n",
       "      <th>1</th>\n",
       "      <td>3</td>\n",
       "      <td>108</td>\n",
       "      <td>27.36</td>\n",
       "      <td>5</td>\n",
       "      <td>2</td>\n",
       "      <td>4</td>\n",
       "      <td>0.129630</td>\n",
       "      <td>0.253333</td>\n",
       "      <td>0.357143</td>\n",
       "      <td>0</td>\n",
       "    </tr>\n",
       "    <tr>\n",
       "      <th>2</th>\n",
       "      <td>3</td>\n",
       "      <td>1516</td>\n",
       "      <td>62.16</td>\n",
       "      <td>3</td>\n",
       "      <td>10</td>\n",
       "      <td>5</td>\n",
       "      <td>0.008575</td>\n",
       "      <td>0.041003</td>\n",
       "      <td>0.230769</td>\n",
       "      <td>0</td>\n",
       "    </tr>\n",
       "    <tr>\n",
       "      <th>3</th>\n",
       "      <td>6</td>\n",
       "      <td>1791</td>\n",
       "      <td>92.31</td>\n",
       "      <td>8</td>\n",
       "      <td>4</td>\n",
       "      <td>4</td>\n",
       "      <td>0.016192</td>\n",
       "      <td>0.051541</td>\n",
       "      <td>0.275862</td>\n",
       "      <td>0</td>\n",
       "    </tr>\n",
       "    <tr>\n",
       "      <th>4</th>\n",
       "      <td>5</td>\n",
       "      <td>430</td>\n",
       "      <td>81.53</td>\n",
       "      <td>3</td>\n",
       "      <td>7</td>\n",
       "      <td>2</td>\n",
       "      <td>0.062791</td>\n",
       "      <td>0.189605</td>\n",
       "      <td>0.111111</td>\n",
       "      <td>0</td>\n",
       "    </tr>\n",
       "  </tbody>\n",
       "</table>\n",
       "</div>"
      ],
      "text/plain": [
       "   trustLevel  totalScanTimeInSeconds  grandTotal  lineItemVoids  \\\n",
       "0           5                    1054       54.70              7   \n",
       "1           3                     108       27.36              5   \n",
       "2           3                    1516       62.16              3   \n",
       "3           6                    1791       92.31              8   \n",
       "4           5                     430       81.53              3   \n",
       "\n",
       "   scansWithoutRegistration  quantityModifications  scannedLineItemsPerSecond  \\\n",
       "0                         0                      3                   0.027514   \n",
       "1                         2                      4                   0.129630   \n",
       "2                        10                      5                   0.008575   \n",
       "3                         4                      4                   0.016192   \n",
       "4                         7                      2                   0.062791   \n",
       "\n",
       "   valuePerSecond  lineItemVoidsPerPosition  fraud  \n",
       "0        0.051898                  0.241379      0  \n",
       "1        0.253333                  0.357143      0  \n",
       "2        0.041003                  0.230769      0  \n",
       "3        0.051541                  0.275862      0  \n",
       "4        0.189605                  0.111111      0  "
      ]
     },
     "execution_count": 2,
     "metadata": {},
     "output_type": "execute_result"
    }
   ],
   "source": [
    "df = pd.read_csv(\"C:\\\\dataSet\\\\train.csv\")    # sesuaikan path\n",
    "df.head(5)                                                              # menampilkan 5 row teratas"
   ]
  },
  {
   "cell_type": "markdown",
   "id": "a2a2409f",
   "metadata": {},
   "source": [
    "# Praproses \n",
    "Ada beberapa tahap yang dilakukan pada praproses, antara lain memeriksa tipe data dan jumlah data (apakah sudah tepat merepresentasikan datanya) serta memeriksa *missing value* (data kosong). Jika terdapat beberapa hal yang tidak sesuai, dilakukan penanganan. "
   ]
  },
  {
   "cell_type": "code",
   "execution_count": 3,
   "id": "bfb83651",
   "metadata": {},
   "outputs": [
    {
     "name": "stdout",
     "output_type": "stream",
     "text": [
      "<class 'pandas.core.frame.DataFrame'>\n",
      "RangeIndex: 1879 entries, 0 to 1878\n",
      "Data columns (total 10 columns):\n",
      " #   Column                     Non-Null Count  Dtype  \n",
      "---  ------                     --------------  -----  \n",
      " 0   trustLevel                 1879 non-null   int64  \n",
      " 1   totalScanTimeInSeconds     1879 non-null   int64  \n",
      " 2   grandTotal                 1879 non-null   float64\n",
      " 3   lineItemVoids              1879 non-null   int64  \n",
      " 4   scansWithoutRegistration   1879 non-null   int64  \n",
      " 5   quantityModifications      1879 non-null   int64  \n",
      " 6   scannedLineItemsPerSecond  1879 non-null   float64\n",
      " 7   valuePerSecond             1879 non-null   float64\n",
      " 8   lineItemVoidsPerPosition   1879 non-null   float64\n",
      " 9   fraud                      1879 non-null   int64  \n",
      "dtypes: float64(4), int64(6)\n",
      "memory usage: 146.9 KB\n"
     ]
    }
   ],
   "source": [
    "df.info() # menampilkan jumlah data dan tipe data"
   ]
  },
  {
   "cell_type": "code",
   "execution_count": 4,
   "id": "030f0746",
   "metadata": {},
   "outputs": [
    {
     "data": {
      "text/plain": [
       "trustLevel                   0\n",
       "totalScanTimeInSeconds       0\n",
       "grandTotal                   0\n",
       "lineItemVoids                0\n",
       "scansWithoutRegistration     0\n",
       "quantityModifications        0\n",
       "scannedLineItemsPerSecond    0\n",
       "valuePerSecond               0\n",
       "lineItemVoidsPerPosition     0\n",
       "fraud                        0\n",
       "dtype: int64"
      ]
     },
     "execution_count": 4,
     "metadata": {},
     "output_type": "execute_result"
    }
   ],
   "source": [
    "df.isnull().sum()  # menampilkan akumulasi *missing value*"
   ]
  },
  {
   "cell_type": "markdown",
   "id": "ddd111ba",
   "metadata": {},
   "source": [
    "# Exploratory Data Analysis (EDA)\n",
    "\n",
    "EDA adalah pendekatan menganalisis kumpulan data untuk merangkum karakteristik utamanya, sering kali menggunakan grafik statistik dan metode visualisasi data lainnya. Pada notebook ini, dilakukan pengecekan terhadap distribusi nilai beberapa atribut dan menganalisis korelasi antaratribut."
   ]
  },
  {
   "cell_type": "code",
   "execution_count": 5,
   "id": "69c3bb7b",
   "metadata": {},
   "outputs": [
    {
     "data": {
      "text/html": [
       "<div>\n",
       "<style scoped>\n",
       "    .dataframe tbody tr th:only-of-type {\n",
       "        vertical-align: middle;\n",
       "    }\n",
       "\n",
       "    .dataframe tbody tr th {\n",
       "        vertical-align: top;\n",
       "    }\n",
       "\n",
       "    .dataframe thead th {\n",
       "        text-align: right;\n",
       "    }\n",
       "</style>\n",
       "<table border=\"1\" class=\"dataframe\">\n",
       "  <thead>\n",
       "    <tr style=\"text-align: right;\">\n",
       "      <th></th>\n",
       "      <th>trustLevel</th>\n",
       "      <th>totalScanTimeInSeconds</th>\n",
       "      <th>grandTotal</th>\n",
       "      <th>lineItemVoids</th>\n",
       "      <th>scansWithoutRegistration</th>\n",
       "      <th>quantityModifications</th>\n",
       "      <th>scannedLineItemsPerSecond</th>\n",
       "      <th>valuePerSecond</th>\n",
       "      <th>lineItemVoidsPerPosition</th>\n",
       "      <th>fraud</th>\n",
       "    </tr>\n",
       "  </thead>\n",
       "  <tbody>\n",
       "    <tr>\n",
       "      <th>0</th>\n",
       "      <td>5</td>\n",
       "      <td>1054</td>\n",
       "      <td>54.70</td>\n",
       "      <td>7</td>\n",
       "      <td>0</td>\n",
       "      <td>3</td>\n",
       "      <td>0.027514</td>\n",
       "      <td>0.051898</td>\n",
       "      <td>0.241379</td>\n",
       "      <td>0</td>\n",
       "    </tr>\n",
       "    <tr>\n",
       "      <th>1</th>\n",
       "      <td>3</td>\n",
       "      <td>108</td>\n",
       "      <td>27.36</td>\n",
       "      <td>5</td>\n",
       "      <td>2</td>\n",
       "      <td>4</td>\n",
       "      <td>0.129630</td>\n",
       "      <td>0.253333</td>\n",
       "      <td>0.357143</td>\n",
       "      <td>0</td>\n",
       "    </tr>\n",
       "    <tr>\n",
       "      <th>2</th>\n",
       "      <td>3</td>\n",
       "      <td>1516</td>\n",
       "      <td>62.16</td>\n",
       "      <td>3</td>\n",
       "      <td>10</td>\n",
       "      <td>5</td>\n",
       "      <td>0.008575</td>\n",
       "      <td>0.041003</td>\n",
       "      <td>0.230769</td>\n",
       "      <td>0</td>\n",
       "    </tr>\n",
       "    <tr>\n",
       "      <th>3</th>\n",
       "      <td>6</td>\n",
       "      <td>1791</td>\n",
       "      <td>92.31</td>\n",
       "      <td>8</td>\n",
       "      <td>4</td>\n",
       "      <td>4</td>\n",
       "      <td>0.016192</td>\n",
       "      <td>0.051541</td>\n",
       "      <td>0.275862</td>\n",
       "      <td>0</td>\n",
       "    </tr>\n",
       "    <tr>\n",
       "      <th>4</th>\n",
       "      <td>5</td>\n",
       "      <td>430</td>\n",
       "      <td>81.53</td>\n",
       "      <td>3</td>\n",
       "      <td>7</td>\n",
       "      <td>2</td>\n",
       "      <td>0.062791</td>\n",
       "      <td>0.189605</td>\n",
       "      <td>0.111111</td>\n",
       "      <td>0</td>\n",
       "    </tr>\n",
       "  </tbody>\n",
       "</table>\n",
       "</div>"
      ],
      "text/plain": [
       "   trustLevel  totalScanTimeInSeconds  grandTotal  lineItemVoids  \\\n",
       "0           5                    1054       54.70              7   \n",
       "1           3                     108       27.36              5   \n",
       "2           3                    1516       62.16              3   \n",
       "3           6                    1791       92.31              8   \n",
       "4           5                     430       81.53              3   \n",
       "\n",
       "   scansWithoutRegistration  quantityModifications  scannedLineItemsPerSecond  \\\n",
       "0                         0                      3                   0.027514   \n",
       "1                         2                      4                   0.129630   \n",
       "2                        10                      5                   0.008575   \n",
       "3                         4                      4                   0.016192   \n",
       "4                         7                      2                   0.062791   \n",
       "\n",
       "   valuePerSecond  lineItemVoidsPerPosition  fraud  \n",
       "0        0.051898                  0.241379      0  \n",
       "1        0.253333                  0.357143      0  \n",
       "2        0.041003                  0.230769      0  \n",
       "3        0.051541                  0.275862      0  \n",
       "4        0.189605                  0.111111      0  "
      ]
     },
     "execution_count": 5,
     "metadata": {},
     "output_type": "execute_result"
    }
   ],
   "source": [
    "# menampilkan 5 row teratas\n",
    "df.head(5)                                        "
   ]
  },
  {
   "cell_type": "markdown",
   "id": "554e79fb",
   "metadata": {},
   "source": [
    "## Pie Chart"
   ]
  },
  {
   "cell_type": "code",
   "execution_count": 6,
   "id": "d6bd4253",
   "metadata": {},
   "outputs": [],
   "source": [
    "df1 = pd.get_dummies(data=df, columns=['trustLevel'])   #untuk mengategorikan tiap level pada atribut trustLevel"
   ]
  },
  {
   "cell_type": "code",
   "execution_count": 7,
   "id": "ffb6f14a",
   "metadata": {},
   "outputs": [
    {
     "name": "stdout",
     "output_type": "stream",
     "text": [
      "Distribusi Atribut trustLevel\n",
      "trustLevel_1    : 17.67%\n",
      "trustLevel_2    : 18.47%\n",
      "trustLevel_3    : 16.92%\n",
      "trustLevel_4    : 15.38%\n",
      "trustLevel_5    : 16.07%\n",
      "trustLevel_6    : 15.49%\n"
     ]
    },
    {
     "data": {
      "image/png": "[encoded data removed]",
      "text/plain": [
       "<Figure size 432x288 with 1 Axes>"
      ]
     },
     "metadata": {},
     "output_type": "display_data"
    }
   ],
   "source": [
    "#variabel untuk menampung persentase jumlah per level berdasarkan total data \n",
    "av=df1[\"trustLevel_1\"].sum()/1879\n",
    "aw=df1[\"trustLevel_2\"].sum()/1879\n",
    "ax=df1[\"trustLevel_3\"].sum()/1879\n",
    "ay=df1[\"trustLevel_4\"].sum()/1879\n",
    "az=df1[\"trustLevel_5\"].sum()/1879\n",
    "a1=df1[\"trustLevel_6\"].sum()/1879\n",
    "\n",
    "\n",
    "#menampilkan output dalam bentuk persen\n",
    "print (\"Distribusi Atribut trustLevel\")\n",
    "print (\"trustLevel_1    : {:.2%}\". format(av))\n",
    "print (\"trustLevel_2    : {:.2%}\". format(aw))\n",
    "print (\"trustLevel_3    : {:.2%}\". format(ax))\n",
    "print (\"trustLevel_4    : {:.2%}\". format(ay))\n",
    "print (\"trustLevel_5    : {:.2%}\". format(az))\n",
    "print (\"trustLevel_6    : {:.2%}\". format(a1))\n",
    "\n",
    "#memasukan value variabel ke dalam y\n",
    "y = np.array([format(av), format(aw), format(ax), format(ay), format(az), format(a1)])\n",
    "mylabels = [\"1\", \"2\", \"3\", \"4\", \"5\", \"6\"]\n",
    "\n",
    "#menmpilkan pie chart\n",
    "plt.pie(y, labels = mylabels, normalize=False )\n",
    "plt.show() "
   ]
  },
  {
   "cell_type": "markdown",
   "id": "975e15d8",
   "metadata": {},
   "source": [
    "Dari pie chart di atas, dapat diketahui level 2 adalah yang terbanyak.\n",
    "\n",
    "## Box Plots"
   ]
  },
  {
   "cell_type": "code",
   "execution_count": 8,
   "id": "90f49e34",
   "metadata": {},
   "outputs": [
    {
     "data": {
      "text/plain": [
       "<AxesSubplot:xlabel='quantityModifications'>"
      ]
     },
     "execution_count": 8,
     "metadata": {},
     "output_type": "execute_result"
    },
    {
     "data": {
      "image/png": "[encoded data removed]",
      "text/plain": [
       "<Figure size 432x288 with 1 Axes>"
      ]
     },
     "metadata": {
      "needs_background": "light"
     },
     "output_type": "display_data"
    }
   ],
   "source": [
    "sns.boxplot(x=\"quantityModifications\",data=df)  "
   ]
  },
  {
   "cell_type": "markdown",
   "id": "63519243",
   "metadata": {},
   "source": [
    "Dari box plot di atas, dapat diketahui median memiliki value 3 dan tidak terdapat outlier."
   ]
  },
  {
   "cell_type": "code",
   "execution_count": 9,
   "id": "ff03ecc8",
   "metadata": {},
   "outputs": [
    {
     "data": {
      "text/plain": [
       "<AxesSubplot:xlabel='grandTotal'>"
      ]
     },
     "execution_count": 9,
     "metadata": {},
     "output_type": "execute_result"
    },
    {
     "data": {
      "image/png": "[encoded data removed]",
      "text/plain": [
       "<Figure size 432x288 with 1 Axes>"
      ]
     },
     "metadata": {
      "needs_background": "light"
     },
     "output_type": "display_data"
    }
   ],
   "source": [
    "sns.boxplot(x=\"grandTotal\",data=df)  "
   ]
  },
  {
   "cell_type": "markdown",
   "id": "e3e4f52f",
   "metadata": {},
   "source": [
    "Dari box plot di atas, dapat diketahui median memiliki value sekitar 40-60 dan tidak terdapat outlier."
   ]
  },
  {
   "cell_type": "markdown",
   "id": "b5b4ea2e",
   "metadata": {},
   "source": [
    "## Heatmap (Korelasi Antaratribut)"
   ]
  },
  {
   "cell_type": "code",
   "execution_count": 10,
   "id": "fcbbc031",
   "metadata": {},
   "outputs": [
    {
     "data": {
      "image/png": "[encoded data removed]",
      "text/plain": [
       "<Figure size 864x720 with 2 Axes>"
      ]
     },
     "metadata": {
      "needs_background": "light"
     },
     "output_type": "display_data"
    }
   ],
   "source": [
    "# deklarasi corr sebagai tampungan atribut yang akan dilihat korelasinya\n",
    "plt.figure(figsize=(12,10))\n",
    "corr = df[[\"trustLevel\",\"totalScanTimeInSeconds\",\"grandTotal\", \"lineItemVoids\",\n",
    "           \"scansWithoutRegistration\", \"quantityModifications\", \"scannedLineItemsPerSecond\", \n",
    "           \"valuePerSecond\", \"lineItemVoidsPerPosition\", \"fraud\"]].corr()\n",
    "\n",
    "# tampilkan sebagai heatmap\n",
    "sns.heatmap(corr, annot=True, cmap=plt.cm.Blues)\n",
    "plt.show()"
   ]
  },
  {
   "cell_type": "markdown",
   "id": "d3d5f2f3",
   "metadata": {},
   "source": [
    "Pada heatmap diatas dapat diketahui bahwa hubungan antara atribut \"scannedLineItemsPerSecond\" dan \"valuePerSecond\" memiliki korelasi yang paling tinggi."
   ]
  },
  {
   "cell_type": "markdown",
   "id": "6d1dfa1a",
   "metadata": {},
   "source": [
    "# Model Klasifikasi\n",
    "## Split Data\n",
    "\n",
    "Setiap data frame dibagi menjadi 2, yaitu sebagai data train dan data test. Pada data ini, X merupakan data yang digunakan untuk membuat model (tanpa atribut fraud), sehingga dibagi menjadi 2 secara random menjadi X_train dan X_test. Sama halnya dengan Y (label atribut fraud), lalu dibagi menjadi 2 secara random menjadi Y_train dan Y_test."
   ]
  },
  {
   "cell_type": "code",
   "execution_count": 11,
   "id": "e4695f3f",
   "metadata": {},
   "outputs": [],
   "source": [
    "# import library untuk split data\n",
    "from sklearn import preprocessing\n",
    "from sklearn.model_selection import train_test_split"
   ]
  },
  {
   "cell_type": "code",
   "execution_count": 12,
   "id": "459fb02e",
   "metadata": {},
   "outputs": [],
   "source": [
    "# memasukan label fraud ke variabel Y\n",
    "Y = (df.fraud) "
   ]
  },
  {
   "cell_type": "code",
   "execution_count": 13,
   "id": "39100ec3",
   "metadata": {},
   "outputs": [
    {
     "data": {
      "text/plain": [
       "0    0\n",
       "1    0\n",
       "2    0\n",
       "3    0\n",
       "4    0\n",
       "Name: fraud, dtype: int64"
      ]
     },
     "execution_count": 13,
     "metadata": {},
     "output_type": "execute_result"
    }
   ],
   "source": [
    "Y.head()"
   ]
  },
  {
   "cell_type": "code",
   "execution_count": 14,
   "id": "33caf076",
   "metadata": {},
   "outputs": [],
   "source": [
    "# memasukan atribut yang akan dibuat model ke variabel X\n",
    "X = df.drop(\"fraud\",axis=1)"
   ]
  },
  {
   "cell_type": "code",
   "execution_count": 15,
   "id": "c4de3a23",
   "metadata": {},
   "outputs": [
    {
     "data": {
      "text/html": [
       "<div>\n",
       "<style scoped>\n",
       "    .dataframe tbody tr th:only-of-type {\n",
       "        vertical-align: middle;\n",
       "    }\n",
       "\n",
       "    .dataframe tbody tr th {\n",
       "        vertical-align: top;\n",
       "    }\n",
       "\n",
       "    .dataframe thead th {\n",
       "        text-align: right;\n",
       "    }\n",
       "</style>\n",
       "<table border=\"1\" class=\"dataframe\">\n",
       "  <thead>\n",
       "    <tr style=\"text-align: right;\">\n",
       "      <th></th>\n",
       "      <th>trustLevel</th>\n",
       "      <th>totalScanTimeInSeconds</th>\n",
       "      <th>grandTotal</th>\n",
       "      <th>lineItemVoids</th>\n",
       "      <th>scansWithoutRegistration</th>\n",
       "      <th>quantityModifications</th>\n",
       "      <th>scannedLineItemsPerSecond</th>\n",
       "      <th>valuePerSecond</th>\n",
       "      <th>lineItemVoidsPerPosition</th>\n",
       "    </tr>\n",
       "  </thead>\n",
       "  <tbody>\n",
       "    <tr>\n",
       "      <th>0</th>\n",
       "      <td>5</td>\n",
       "      <td>1054</td>\n",
       "      <td>54.70</td>\n",
       "      <td>7</td>\n",
       "      <td>0</td>\n",
       "      <td>3</td>\n",
       "      <td>0.027514</td>\n",
       "      <td>0.051898</td>\n",
       "      <td>0.241379</td>\n",
       "    </tr>\n",
       "    <tr>\n",
       "      <th>1</th>\n",
       "      <td>3</td>\n",
       "      <td>108</td>\n",
       "      <td>27.36</td>\n",
       "      <td>5</td>\n",
       "      <td>2</td>\n",
       "      <td>4</td>\n",
       "      <td>0.129630</td>\n",
       "      <td>0.253333</td>\n",
       "      <td>0.357143</td>\n",
       "    </tr>\n",
       "    <tr>\n",
       "      <th>2</th>\n",
       "      <td>3</td>\n",
       "      <td>1516</td>\n",
       "      <td>62.16</td>\n",
       "      <td>3</td>\n",
       "      <td>10</td>\n",
       "      <td>5</td>\n",
       "      <td>0.008575</td>\n",
       "      <td>0.041003</td>\n",
       "      <td>0.230769</td>\n",
       "    </tr>\n",
       "    <tr>\n",
       "      <th>3</th>\n",
       "      <td>6</td>\n",
       "      <td>1791</td>\n",
       "      <td>92.31</td>\n",
       "      <td>8</td>\n",
       "      <td>4</td>\n",
       "      <td>4</td>\n",
       "      <td>0.016192</td>\n",
       "      <td>0.051541</td>\n",
       "      <td>0.275862</td>\n",
       "    </tr>\n",
       "    <tr>\n",
       "      <th>4</th>\n",
       "      <td>5</td>\n",
       "      <td>430</td>\n",
       "      <td>81.53</td>\n",
       "      <td>3</td>\n",
       "      <td>7</td>\n",
       "      <td>2</td>\n",
       "      <td>0.062791</td>\n",
       "      <td>0.189605</td>\n",
       "      <td>0.111111</td>\n",
       "    </tr>\n",
       "  </tbody>\n",
       "</table>\n",
       "</div>"
      ],
      "text/plain": [
       "   trustLevel  totalScanTimeInSeconds  grandTotal  lineItemVoids  \\\n",
       "0           5                    1054       54.70              7   \n",
       "1           3                     108       27.36              5   \n",
       "2           3                    1516       62.16              3   \n",
       "3           6                    1791       92.31              8   \n",
       "4           5                     430       81.53              3   \n",
       "\n",
       "   scansWithoutRegistration  quantityModifications  scannedLineItemsPerSecond  \\\n",
       "0                         0                      3                   0.027514   \n",
       "1                         2                      4                   0.129630   \n",
       "2                        10                      5                   0.008575   \n",
       "3                         4                      4                   0.016192   \n",
       "4                         7                      2                   0.062791   \n",
       "\n",
       "   valuePerSecond  lineItemVoidsPerPosition  \n",
       "0        0.051898                  0.241379  \n",
       "1        0.253333                  0.357143  \n",
       "2        0.041003                  0.230769  \n",
       "3        0.051541                  0.275862  \n",
       "4        0.189605                  0.111111  "
      ]
     },
     "execution_count": 15,
     "metadata": {},
     "output_type": "execute_result"
    }
   ],
   "source": [
    "X.head()"
   ]
  },
  {
   "cell_type": "code",
   "execution_count": 16,
   "id": "6dbda9d2",
   "metadata": {},
   "outputs": [],
   "source": [
    "X_train,X_test,Y_train,Y_test=train_test_split(X,Y,test_size=0.2,random_state=123)"
   ]
  },
  {
   "cell_type": "code",
   "execution_count": 17,
   "id": "01b9abd9",
   "metadata": {},
   "outputs": [],
   "source": [
    "#simpan nama kolom untuk keperluan prediksi nanti\n",
    "import pickle\n",
    "with open('C:\\\\dataSet\\\\fraud_x_train_columns.pickle', 'wb') as fp:\n",
    "    pickle.dump(X_train.columns, fp)"
   ]
  },
  {
   "cell_type": "markdown",
   "id": "7d525ac6",
   "metadata": {},
   "source": [
    "## Import Library Model Klasifikasi"
   ]
  },
  {
   "cell_type": "code",
   "execution_count": 18,
   "id": "2e71d39b",
   "metadata": {},
   "outputs": [],
   "source": [
    "# Naive Bayes\n",
    "from sklearn.naive_bayes import GaussianNB\n",
    "from sklearn.metrics import classification_report\n",
    "from sklearn.metrics import accuracy_score\n",
    "\n",
    "# Decision Tree\n",
    "from sklearn import tree\n",
    "\n",
    "# Random Forest\n",
    "from sklearn.ensemble import RandomForestClassifier\n",
    "\n",
    "# XGBoost\n",
    "import xgboost as xgb\n",
    "\n",
    "#Cross Validation\n",
    "from sklearn.metrics import classification_report, make_scorer, f1_score\n",
    "from sklearn.model_selection import cross_val_score\n",
    "from sklearn.metrics import confusion_matrix"
   ]
  },
  {
   "cell_type": "markdown",
   "id": "39156014",
   "metadata": {},
   "source": [
    "## Confusion Matrix\n",
    "\n",
    "Confusion Matrix digunakan untuk menghitung nilai prediksi dan nilai yang sebenarnya. Value yang ada pada confusion matrix terdiri dari:\n",
    "- true positive = prediksi dan sebenarnya positif (benar)\n",
    "- false positive = prediksi positif (benar) dan sebenernya negatif (salah) \n",
    "- true negative = prediksi dan sebenarnya negatif (salah)\n",
    "- false negative =  prediksi negatif (salah) dan sebenarnya positif (benar)"
   ]
  },
  {
   "cell_type": "markdown",
   "id": "8e62571d",
   "metadata": {},
   "source": [
    "\n",
    "\n",
    "\n",
    "\n",
    "\n",
    "\n",
    "\n",
    "\n",
    "\n",
    "\n",
    "\n",
    "\n",
    "\n",
    "\n",
    "\n",
    "\n",
    "\n",
    "\n",
    "\n",
    "\n",
    "\n",
    "\n",
    "\n",
    "## Naive Bayes"
   ]
  },
  {
   "cell_type": "code",
   "execution_count": 19,
   "id": "1d681ea8",
   "metadata": {},
   "outputs": [
    {
     "name": "stdout",
     "output_type": "stream",
     "text": [
      "Akurasi 0.8670212765957447\n",
      "              precision    recall  f1-score   support\n",
      "\n",
      "           0       1.00      0.86      0.93       361\n",
      "           1       0.23      1.00      0.38        15\n",
      "\n",
      "    accuracy                           0.87       376\n",
      "   macro avg       0.62      0.93      0.65       376\n",
      "weighted avg       0.97      0.87      0.90       376\n",
      "\n",
      "[[311  50]\n",
      " [  0  15]]\n",
      "\n",
      "\n",
      "~~~~~~~~~~~~~~~~~~~~~~Cross Validation~~~~~~~~~~~~~~~~~~~~\n",
      "\n",
      "\n",
      "              precision    recall  f1-score   support\n",
      "\n",
      "           0       0.99      0.82      0.90       444\n",
      "           1       0.23      0.92      0.36        26\n",
      "\n",
      "    accuracy                           0.82       470\n",
      "   macro avg       0.61      0.87      0.63       470\n",
      "weighted avg       0.95      0.82      0.87       470\n",
      "\n",
      "[[362  82]\n",
      " [  2  24]]\n",
      "              precision    recall  f1-score   support\n",
      "\n",
      "           0       1.00      0.82      0.90       444\n",
      "           1       0.24      0.96      0.38        26\n",
      "\n",
      "    accuracy                           0.83       470\n",
      "   macro avg       0.62      0.89      0.64       470\n",
      "weighted avg       0.96      0.83      0.87       470\n",
      "\n",
      "[[365  79]\n",
      " [  1  25]]\n",
      "              precision    recall  f1-score   support\n",
      "\n",
      "           0       1.00      0.84      0.91       444\n",
      "           1       0.26      1.00      0.42        26\n",
      "\n",
      "    accuracy                           0.84       470\n",
      "   macro avg       0.63      0.92      0.66       470\n",
      "weighted avg       0.96      0.84      0.88       470\n",
      "\n",
      "[[371  73]\n",
      " [  0  26]]\n",
      "              precision    recall  f1-score   support\n",
      "\n",
      "           0       1.00      0.84      0.91       443\n",
      "           1       0.27      1.00      0.43        26\n",
      "\n",
      "    accuracy                           0.85       469\n",
      "   macro avg       0.64      0.92      0.67       469\n",
      "weighted avg       0.96      0.85      0.89       469\n",
      "\n",
      "[[373  70]\n",
      " [  0  26]]\n",
      "[0.36363636 0.38461538 0.416      0.42622951]\n"
     ]
    }
   ],
   "source": [
    "# Memanggil model Naive Bayes yang ditampung pada variabel clf_NB. Sesuaikan dengan data X_train (data frame tanpa atribut \n",
    "#      fraud) dan Y_train (data frame yang berisi atribut fraud dengan nilai 0 dan 1)\n",
    "clf_NB = GaussianNB()                           \n",
    "clf_NB.fit(X_train, Y_train)                    \n",
    "\n",
    "# Menyimpan prediksi dari X_test (data test tanpa atribut fraud). Menyimpan nilai akurasi yang diperoleh dari hasil prediksi \n",
    "#      yang dites dengan Y_test\n",
    "Y_pred = clf_NB.predict(X_test)                \n",
    "acc = accuracy_score(Y_test, Y_pred)          \n",
    "\n",
    "# Menampilkan output akurasi. Menampikan hasil klasifikasi\n",
    "print(\"Akurasi {}\".format(acc))                   \n",
    "print(classification_report(Y_test, Y_pred))     \n",
    "\n",
    "# Menampilkan output confusion matrix\n",
    "print(confusion_matrix(Y_test, Y_pred))\n",
    "\n",
    "print(\"\\n\\n~~~~~~~~~~~~~~~~~~~~~~Cross Validation~~~~~~~~~~~~~~~~~~~~\\n\\n\")\n",
    "\n",
    "# Deklarasi fungsi untuk menampilkan precision, recall, f1-score, dan confusion matrix pada tiap cross validation\n",
    "def classification_report_with_f1_score(y_true, y_pred):\n",
    "    print(classification_report(y_true, y_pred))\n",
    "    print(confusion_matrix(y_true, y_pred))\n",
    "    return f1_score(y_true, y_pred)\n",
    "\n",
    "# menentukan value cross validation\n",
    "scores = cross_val_score(clf_NB, X=X, y=Y, cv=4,\n",
    "\n",
    "#menampilkan output pada fungsi classification_report_with_f1_score dan menampilkan output f1-score untuk tiap cross validation\n",
    "scoring=make_scorer(classification_report_with_f1_score))\n",
    "print(scores)"
   ]
  },
  {
   "cell_type": "markdown",
   "id": "ff9ccbfd",
   "metadata": {},
   "source": [
    "Dengan menggunakan model Naive Bayes, dapat diketahui:\n",
    "\n",
    "Naive Bayes tidak dapat menggunakan fungsi **Feature Importances** yang berarti atribut terpenting tidak dapat ditentukan.\n",
    "\n",
    "[0.36363636 0.38461538 0.416      0.42622951]\n",
    "\n",
    "**Cross Validation**\n",
    "Jika menggunakan model Naive Bayes, nilai f1 score pada fraud 1 tidak mengalami perubahan setiap kali syntax predict dan accuracy score dijalankan.\n",
    "\n",
    "Dari output di atas, nilai f1-score mengalami peningkatan pada tiap cross validation dengan menggunakan model Naive Bayes. Selain itu, setiap kali model Naive Bayes dijalankan, nilai f1 score selalu sama. \n",
    "\n",
    "Dari penjelasan di atas, dapat disimpulkan bahwa kinerja model Naive Bayes selalu stabil dan konsisten."
   ]
  },
  {
   "cell_type": "markdown",
   "id": "95327e3b",
   "metadata": {},
   "source": [
    "## Decision Tree"
   ]
  },
  {
   "cell_type": "code",
   "execution_count": 20,
   "id": "04a09680",
   "metadata": {},
   "outputs": [
    {
     "name": "stdout",
     "output_type": "stream",
     "text": [
      "Akurasi 0.976063829787234\n",
      "              precision    recall  f1-score   support\n",
      "\n",
      "           0       0.98      0.99      0.99       361\n",
      "           1       0.75      0.60      0.67        15\n",
      "\n",
      "    accuracy                           0.98       376\n",
      "   macro avg       0.87      0.80      0.83       376\n",
      "weighted avg       0.97      0.98      0.97       376\n",
      "\n",
      "[[358   3]\n",
      " [  6   9]]\n",
      "\n",
      "\n",
      "~~~~~~~~~~~~~~~~~~~~~~Feature Importances~~~~~~~~~~~~~~~~~~~~\n",
      "\n",
      "\n",
      "                           importance\n",
      "scannedLineItemsPerSecond    0.242096\n",
      "totalScanTimeInSeconds       0.217597\n",
      "trustLevel                   0.196980\n",
      "lineItemVoidsPerPosition     0.085947\n",
      "lineItemVoids                0.078029\n",
      "scansWithoutRegistration     0.054779\n",
      "valuePerSecond               0.050545\n",
      "quantityModifications        0.041483\n",
      "grandTotal                   0.032544\n",
      "\n",
      "\n",
      "~~~~~~~~~~~~~~~~~~~~~~Cross Validation~~~~~~~~~~~~~~~~~~~~\n",
      "\n",
      "\n",
      "              precision    recall  f1-score   support\n",
      "\n",
      "           0       0.98      0.98      0.98       444\n",
      "           1       0.62      0.62      0.62        26\n",
      "\n",
      "    accuracy                           0.96       470\n",
      "   macro avg       0.80      0.80      0.80       470\n",
      "weighted avg       0.96      0.96      0.96       470\n",
      "\n",
      "[[434  10]\n",
      " [ 10  16]]\n",
      "              precision    recall  f1-score   support\n",
      "\n",
      "           0       0.99      0.96      0.98       444\n",
      "           1       0.57      0.81      0.67        26\n",
      "\n",
      "    accuracy                           0.96       470\n",
      "   macro avg       0.78      0.89      0.82       470\n",
      "weighted avg       0.97      0.96      0.96       470\n",
      "\n",
      "[[428  16]\n",
      " [  5  21]]\n",
      "              precision    recall  f1-score   support\n",
      "\n",
      "           0       0.98      0.98      0.98       444\n",
      "           1       0.71      0.65      0.68        26\n",
      "\n",
      "    accuracy                           0.97       470\n",
      "   macro avg       0.84      0.82      0.83       470\n",
      "weighted avg       0.96      0.97      0.97       470\n",
      "\n",
      "[[437   7]\n",
      " [  9  17]]\n",
      "              precision    recall  f1-score   support\n",
      "\n",
      "           0       0.97      0.99      0.98       443\n",
      "           1       0.74      0.54      0.62        26\n",
      "\n",
      "    accuracy                           0.96       469\n",
      "   macro avg       0.86      0.76      0.80       469\n",
      "weighted avg       0.96      0.96      0.96       469\n",
      "\n",
      "[[438   5]\n",
      " [ 12  14]]\n",
      "[0.61538462 0.66666667 0.68       0.62222222]\n"
     ]
    }
   ],
   "source": [
    "# Memanggil model Decision Tree yang ditampung pada variabel clf_DT. Sesuaikan dengan data X_train (data frame tanpa atribut \n",
    "#      fraud) dan Y_train (data frame yang berisi atribut fraud dengan nilai 0 dan 1)\n",
    "clf_DT = tree.DecisionTreeClassifier()           \n",
    "clf_DT.fit(X_train, Y_train)                     \n",
    "\n",
    "# Menyimpan prediksi dari X_test (data test tanpa atribut fraud). Menyimpan nilai akurasi yang diperoleh dari hasil prediksi \n",
    "#      yang dites dengan Y_test\n",
    "Y_pred = clf_DT.predict(X_test)                \n",
    "acc = accuracy_score(Y_test, Y_pred)             \n",
    "\n",
    "# Menampilkan output akurasi. Menampikan hasil klasifikasi\n",
    "\n",
    "print(\"Akurasi {}\".format(acc))                   \n",
    "print(classification_report(Y_test, Y_pred))    \n",
    "\n",
    "# Menampilkan output confusion matrix\n",
    "print(confusion_matrix(Y_test, Y_pred))\n",
    "\n",
    "print(\"\\n\\n~~~~~~~~~~~~~~~~~~~~~~Feature Importances~~~~~~~~~~~~~~~~~~~~\\n\\n\")\n",
    "\n",
    "# Syntax di bawah digunakan untuk menghitung tingkat kepentingan atribut (hasil klasifikasi Random Forest) berdasarkan atribut \n",
    "#     yang ada di X_train, lalu diurutkan secara menurun \n",
    "feature_importances = pd.DataFrame(clf_DT.feature_importances_,index = X_train.columns, \n",
    "                                   columns=['importance']).sort_values('importance',ascending=False)\n",
    "\n",
    "# Menampilkan hasil tingkat kepentingan atribut\n",
    "print(feature_importances)   \n",
    "\n",
    "print(\"\\n\\n~~~~~~~~~~~~~~~~~~~~~~Cross Validation~~~~~~~~~~~~~~~~~~~~\\n\\n\")\n",
    "\n",
    "# Deklarasi fungsi untuk menampilkan precision, recall, f1-score, dan confusion matrix pada tiap cross validation\n",
    "def classification_report_with_f1_score(y_true, y_pred):\n",
    "    print(classification_report(y_true, y_pred)) #precision, recall, dan f1-score\n",
    "    print(confusion_matrix(y_true, y_pred)) #confusion matrix\n",
    "    return f1_score(y_true, y_pred)\n",
    "\n",
    "# menentukan value cross validation\n",
    "scores = cross_val_score(clf_DT, X=X, y=Y, cv=4, \n",
    "\n",
    "#menampilkan output pada fungsi classification_report_with_f1_score\n",
    "scoring=make_scorer(classification_report_with_f1_score)) \n",
    "\n",
    "#menampilkan output f1-score untuk tiap cross validation\n",
    "print(scores) #run pertama"
   ]
  },
  {
   "cell_type": "code",
   "execution_count": 21,
   "id": "724c3cf4",
   "metadata": {},
   "outputs": [
    {
     "name": "stdout",
     "output_type": "stream",
     "text": [
      "[0.61538462 0.74576271 0.71698113 0.62222222]\n"
     ]
    }
   ],
   "source": [
    "def classification_report_with_f1_score(y_true, y_pred):\n",
    "    return f1_score(y_true, y_pred)\n",
    "\n",
    "# menentukan value cross validation\n",
    "scores = cross_val_score(clf_DT, X=X, y=Y, cv=4, \n",
    "\n",
    "#menampilkan output pada fungsi classification_report_with_f1_score\n",
    "scoring=make_scorer(classification_report_with_f1_score)) \n",
    "\n",
    "#menampilkan output f1-score untuk tiap cross validation\n",
    "print(scores) #run kedua"
   ]
  },
  {
   "cell_type": "markdown",
   "id": "2c4d1921",
   "metadata": {},
   "source": [
    "Dengan menggunakan model Decision Tree, dapat diketahui:\n",
    "\n",
    "**Feature Importances**\n",
    "\n",
    "atribut yang paling penting bagi model Decision Tree adalah atribut scannedLineItemsPerSecond karena memiliki value importance yang paling besar.\n",
    "\n",
    "\n",
    "**Cross Validation**\n",
    "Jika menggunakan model Decision Tree, nilai f1 score pada fraud 1 akan mengalami perubahan setiap kali syntax predict dan accuracy score dijalankan.\n",
    "\n",
    "Dari penjelasan di atas, dapat disimpulkan bahwa kinerja model Decision Tree tidak stabil. Hal ini disebabkan, pada model Decision Tree menggunakan random state yang mengontrol starting point sehingga kinerja model Decision tree tidak stabil (berubah-ubah)."
   ]
  },
  {
   "cell_type": "markdown",
   "id": "96be4b0a",
   "metadata": {},
   "source": [
    "## Random Forest"
   ]
  },
  {
   "cell_type": "code",
   "execution_count": 22,
   "id": "f9c6881b",
   "metadata": {},
   "outputs": [
    {
     "name": "stdout",
     "output_type": "stream",
     "text": [
      "Akurasi 0.9867021276595744\n",
      "              precision    recall  f1-score   support\n",
      "\n",
      "           0       0.99      1.00      0.99       361\n",
      "           1       1.00      0.67      0.80        15\n",
      "\n",
      "    accuracy                           0.99       376\n",
      "   macro avg       0.99      0.83      0.90       376\n",
      "weighted avg       0.99      0.99      0.99       376\n",
      "\n",
      "[[361   0]\n",
      " [  5  10]]\n",
      "\n",
      "\n",
      "~~~~~~~~~~~~~~~~~~~~~Feature Importances~~~~~~~~~~~~~~~~~~~\n",
      "\n",
      "\n",
      "                           importance\n",
      "trustLevel                   0.275139\n",
      "totalScanTimeInSeconds       0.153191\n",
      "scannedLineItemsPerSecond    0.149126\n",
      "lineItemVoidsPerPosition     0.099001\n",
      "valuePerSecond               0.087869\n",
      "grandTotal                   0.081010\n",
      "lineItemVoids                0.072523\n",
      "scansWithoutRegistration     0.056474\n",
      "quantityModifications        0.025666\n",
      "\n",
      "\n",
      "~~~~~~~~~~~~~~~~~~~~~~Cross Validation~~~~~~~~~~~~~~~~~~~~\n",
      "\n",
      "\n",
      "              precision    recall  f1-score   support\n",
      "\n",
      "           0       0.98      1.00      0.99       444\n",
      "           1       0.89      0.62      0.73        26\n",
      "\n",
      "    accuracy                           0.97       470\n",
      "   macro avg       0.93      0.81      0.86       470\n",
      "weighted avg       0.97      0.97      0.97       470\n",
      "\n",
      "[[442   2]\n",
      " [ 10  16]]\n",
      "              precision    recall  f1-score   support\n",
      "\n",
      "           0       0.99      1.00      0.99       444\n",
      "           1       0.95      0.77      0.85        26\n",
      "\n",
      "    accuracy                           0.99       470\n",
      "   macro avg       0.97      0.88      0.92       470\n",
      "weighted avg       0.98      0.99      0.98       470\n",
      "\n",
      "[[443   1]\n",
      " [  6  20]]\n",
      "              precision    recall  f1-score   support\n",
      "\n",
      "           0       0.98      0.99      0.98       444\n",
      "           1       0.75      0.58      0.65        26\n",
      "\n",
      "    accuracy                           0.97       470\n",
      "   macro avg       0.86      0.78      0.82       470\n",
      "weighted avg       0.96      0.97      0.96       470\n",
      "\n",
      "[[439   5]\n",
      " [ 11  15]]\n",
      "              precision    recall  f1-score   support\n",
      "\n",
      "           0       0.96      1.00      0.98       443\n",
      "           1       0.90      0.35      0.50        26\n",
      "\n",
      "    accuracy                           0.96       469\n",
      "   macro avg       0.93      0.67      0.74       469\n",
      "weighted avg       0.96      0.96      0.95       469\n",
      "\n",
      "[[442   1]\n",
      " [ 17   9]]\n",
      "[0.72727273 0.85106383 0.65217391 0.5       ]\n"
     ]
    }
   ],
   "source": [
    "# Memanggil model Random Forest yang ditampung pada variabel clf_RF. Sesuaikan dengan data X_train (data frame tanpa atribut \n",
    "#      fraud) dan Y_train (data frame yang berisi atribut fraud dengan nilai 0 dan 1)\n",
    "clf_RF = RandomForestClassifier(n_estimators=50, random_state=123) \n",
    "clf_RF.fit(X_train, Y_train)                                       \n",
    "\n",
    "# Menyimpan prediksi dari X_test (data test tanpa atribut fraud). Menyimpan nilai akurasi yang diperoleh dari hasil prediksi \n",
    "#       yang dites dengan Y_test\n",
    "Y_pred = clf_RF.predict(X_test)                                    \n",
    "acc = accuracy_score(Y_test, Y_pred)                               \n",
    "\n",
    "# Menampilkan output akurasi. Menampikan hasil klasifikasi\n",
    "print(\"Akurasi {}\".format(acc))                                    \n",
    "print(classification_report(Y_test, Y_pred))                       \n",
    "\n",
    "# Menampilkan output confusion matrix\n",
    "print(confusion_matrix(Y_test, Y_pred))\n",
    "\n",
    "print(\"\\n\\n~~~~~~~~~~~~~~~~~~~~~Feature Importances~~~~~~~~~~~~~~~~~~~\\n\\n\")\n",
    "\n",
    "# Syntax di bawah digunakan untuk menghitung tingkat kepentingan atribut (hasil klasifikasi Random Forest) berdasarkan atribut \n",
    "#   yang ada di X_train, lalu diurutkan secara menurun \n",
    "feature_importances = pd.DataFrame(clf_RF.feature_importances_,index = X_train.columns, \n",
    "                                   columns=['importance']).sort_values('importance',ascending=False)\n",
    "\n",
    "# Menampilkan hasil tingkat kepentingan atribut\n",
    "print(feature_importances)   # Menampilkan hasil tingkat kepentingan atribut\n",
    "\n",
    "print(\"\\n\\n~~~~~~~~~~~~~~~~~~~~~~Cross Validation~~~~~~~~~~~~~~~~~~~~\\n\\n\")\n",
    "\n",
    "# Deklarasi fungsi untuk menampilkan precision, recall, f1-score, dan confusion matrix pada tiap cross validation\n",
    "def classification_report_with_f1_score(y_true, y_pred):\n",
    "    print(classification_report(y_true, y_pred))\n",
    "    print(confusion_matrix(y_true, y_pred))\n",
    "    return f1_score(y_true, y_pred)\n",
    "\n",
    "# menentukan value cross validation\n",
    "scores = cross_val_score(clf_RF, X=X, y=Y, cv=4,\n",
    "\n",
    "#menampilkan output pada fungsi classification_report_with_f1_score\n",
    "scoring=make_scorer(classification_report_with_f1_score))\n",
    "\n",
    "#menampilkan output f1-score untuk tiap cross validation\n",
    "print(scores)"
   ]
  },
  {
   "cell_type": "markdown",
   "id": "8dc1aadd",
   "metadata": {},
   "source": [
    "Dengan menggunakan model Random Forest, dapat diketahui:\n",
    "\n",
    "**Feature Importances**\n",
    "fitur yang paling penting bagi model Random Forest adalah fitur trustLevel karena memiliki value importance yang paling besar.\n",
    "\n",
    "[0.72727273 0.85106383 0.65217391 0.5       ]\n",
    "\n",
    "**Cross Validation**\n",
    "Jika menggunakan model Random Forest, nilai f1 score pada fraud 1 tidak mengalami perubahan setiap kali syntax predict dan accuracy score dijalankan.\n",
    "\n",
    "Dari output di atas, f1-score pada tiap cross validation mengalami fluktuasi.\n",
    "\n",
    "Dari nilai-nilai tersebut, dapat dipastikan bahwa model Random Forest cukup stabil."
   ]
  },
  {
   "cell_type": "markdown",
   "id": "f69923ef",
   "metadata": {},
   "source": [
    "## XGBoost"
   ]
  },
  {
   "cell_type": "code",
   "execution_count": 23,
   "id": "3bcc7a0a",
   "metadata": {},
   "outputs": [
    {
     "name": "stdout",
     "output_type": "stream",
     "text": [
      "Akurasi 0.9893617021276596\n",
      "              precision    recall  f1-score   support\n",
      "\n",
      "           0       0.99      1.00      0.99       361\n",
      "           1       1.00      0.73      0.85        15\n",
      "\n",
      "    accuracy                           0.99       376\n",
      "   macro avg       0.99      0.87      0.92       376\n",
      "weighted avg       0.99      0.99      0.99       376\n",
      "\n",
      "[[361   0]\n",
      " [  4  11]]\n",
      "\n",
      "\n",
      "~~~~~~~~~~~~~~~~~~~~~~Feature Importances~~~~~~~~~~~~~~~~~~~~\n",
      "\n",
      "\n",
      "                           importance\n",
      "trustLevel                   0.396237\n",
      "scannedLineItemsPerSecond    0.135724\n",
      "totalScanTimeInSeconds       0.117874\n",
      "lineItemVoidsPerPosition     0.111298\n",
      "lineItemVoids                0.093490\n",
      "valuePerSecond               0.066872\n",
      "scansWithoutRegistration     0.042629\n",
      "quantityModifications        0.022167\n",
      "grandTotal                   0.013710\n",
      "\n",
      "\n",
      "~~~~~~~~~~~~~~~~~~~~~~Cross Validation~~~~~~~~~~~~~~~~~~~~\n",
      "\n",
      "\n",
      "              precision    recall  f1-score   support\n",
      "\n",
      "           0       0.98      0.99      0.99       444\n",
      "           1       0.79      0.73      0.76        26\n",
      "\n",
      "    accuracy                           0.97       470\n",
      "   macro avg       0.89      0.86      0.87       470\n",
      "weighted avg       0.97      0.97      0.97       470\n",
      "\n",
      "[[439   5]\n",
      " [  7  19]]\n",
      "              precision    recall  f1-score   support\n",
      "\n",
      "           0       0.99      0.99      0.99       444\n",
      "           1       0.79      0.85      0.81        26\n",
      "\n",
      "    accuracy                           0.98       470\n",
      "   macro avg       0.89      0.92      0.90       470\n",
      "weighted avg       0.98      0.98      0.98       470\n",
      "\n",
      "[[438   6]\n",
      " [  4  22]]\n",
      "              precision    recall  f1-score   support\n",
      "\n",
      "           0       0.98      0.99      0.98       444\n",
      "           1       0.75      0.58      0.65        26\n",
      "\n",
      "    accuracy                           0.97       470\n",
      "   macro avg       0.86      0.78      0.82       470\n",
      "weighted avg       0.96      0.97      0.96       470\n",
      "\n",
      "[[439   5]\n",
      " [ 11  15]]\n",
      "              precision    recall  f1-score   support\n",
      "\n",
      "           0       0.98      0.99      0.99       443\n",
      "           1       0.84      0.62      0.71        26\n",
      "\n",
      "    accuracy                           0.97       469\n",
      "   macro avg       0.91      0.80      0.85       469\n",
      "weighted avg       0.97      0.97      0.97       469\n",
      "\n",
      "[[440   3]\n",
      " [ 10  16]]\n",
      "[0.76       0.81481481 0.65217391 0.71111111]\n"
     ]
    }
   ],
   "source": [
    "# Memanggil model XGBoost yang ditampung pada variabel clf_XGB\n",
    "clf_XGB = xgb.XGBClassifier(use_label_encoder=False, objective = \"multi:softprob\", num_class = 2, eval_metric =   \n",
    "\"mlogloss\", max_depth = 24, gamma=0.1, subsample = 0.90,learning_rate=0.01,              \n",
    "n_estimators = 10, nthread=-1)                                                           \n",
    "\n",
    "# Sesuaikan dengan data X_train (data frame tanpa atribut fraud) dan Y_train (data frame yang berisi \n",
    "#       atribut fraud dengan nilai 0 dan 1)\n",
    "clf_XGB.fit(X_train, Y_train)                                                        \n",
    "\n",
    "# Menyimpan prediksi dari X_test (data test tanpa atribut fraud), lalu menyimpan nilai akurasi yang diperoleh \n",
    "#   dari hasil prediksi yang dites dengan Y_test\n",
    "Y_pred = clf_XGB.predict(X_test)                                                        \n",
    "acc = accuracy_score(Y_test, Y_pred)                                                   \n",
    "\n",
    "# Menampilkan output akurasi dan menampikan hasil klasifikasi\n",
    "print(\"Akurasi {}\".format(acc))                                                          \n",
    "print(classification_report(Y_test, Y_pred))                                     \n",
    "\n",
    "# Menampilkan output confusion matrix\n",
    "print(confusion_matrix(Y_test, Y_pred))\n",
    "\n",
    "print(\"\\n\\n~~~~~~~~~~~~~~~~~~~~~~Feature Importances~~~~~~~~~~~~~~~~~~~~\\n\\n\")\n",
    "\n",
    "# Syntax di bawah digunakan untuk menghitung tingkat kepentingan atribut (hasil klasifikasi Random Forest) berdasarkan \n",
    "#      atribut yang ada di X_train, lalu diurutkan secara menurun \n",
    "feature_importances = pd.DataFrame(clf_XGB.feature_importances_,index = X_train.columns, \n",
    "                                   columns=['importance']).sort_values('importance',ascending=False)\n",
    "\n",
    "# Menampilkan hasil tingkat kepentingan atribut\n",
    "print(feature_importances)   \n",
    "\n",
    "print(\"\\n\\n~~~~~~~~~~~~~~~~~~~~~~Cross Validation~~~~~~~~~~~~~~~~~~~~\\n\\n\")\n",
    "\n",
    "# Deklarasi fungsi untuk menampilkan precision, recall, f1-score, dan confusion matrix pada tiap cross validation\n",
    "def classification_report_with_f1_score(y_true, y_pred):\n",
    "    print(classification_report(y_true, y_pred))\n",
    "    print(confusion_matrix(y_true, y_pred))\n",
    "    return f1_score(y_true, y_pred)\n",
    "\n",
    "# menentukan value cross validation\n",
    "scores = cross_val_score(clf_XGB, X=X, y=Y, cv=4,\n",
    "\n",
    "#menampilkan output pada fungsi classification_report_with_f1_score\n",
    "scoring=make_scorer(classification_report_with_f1_score))\n",
    "\n",
    "#menampilkan output f1-score untuk tiap cross validation\n",
    "print(scores)"
   ]
  },
  {
   "cell_type": "markdown",
   "id": "e2418795",
   "metadata": {},
   "source": [
    "Dengan menggunakan model XGBoost, dapat diketahui:\n",
    "\n",
    "**Feature Importances**\n",
    "fitur yang paling penting bagi model XGBoost adalah fitur trustLevel karena memiliki value importance yang paling besar.\n",
    "\n",
    "[0.76       0.81481481 0.65217391 0.71111111]\n",
    "\n",
    "**Cross Validation**\n",
    "jika menggunakan model XGBoost, nilai f1 score pada fraud 1 tidak mengalami perubahan setiap kali syntax predict dan accuracy score dijalankan.\n",
    "\n",
    "Dari output di atas, f1-score pada tiap cross validation mengalami fluktuasi.\n",
    "\n",
    "Dari nilai-nilai tersebut, dapat dipastikan bahwa model XGBoost stabil setiap kali dijalankan."
   ]
  },
  {
   "cell_type": "markdown",
   "id": "496124d1",
   "metadata": {},
   "source": [
    "# Perbaikan Model \n",
    "\n",
    "## MinMax Scaler"
   ]
  },
  {
   "cell_type": "code",
   "execution_count": 24,
   "id": "f014d534",
   "metadata": {},
   "outputs": [],
   "source": [
    "mm_scaler = preprocessing.MinMaxScaler()\n",
    "X_train_minmax = mm_scaler.fit_transform(X_train)\n",
    "X_test_minmax = mm_scaler.transform(X_test)"
   ]
  },
  {
   "cell_type": "code",
   "execution_count": 25,
   "id": "66c8f893",
   "metadata": {},
   "outputs": [
    {
     "name": "stdout",
     "output_type": "stream",
     "text": [
      "Akurasi 0.9893617021276596\n",
      "              precision    recall  f1-score   support\n",
      "\n",
      "           0       0.99      1.00      0.99       361\n",
      "           1       1.00      0.73      0.85        15\n",
      "\n",
      "    accuracy                           0.99       376\n",
      "   macro avg       0.99      0.87      0.92       376\n",
      "weighted avg       0.99      0.99      0.99       376\n",
      "\n"
     ]
    }
   ],
   "source": [
    "# Memanggil model XGBoost yang ditampung pada variabel clf_XGB_mm\n",
    "clf_XGB_mm = xgb.XGBClassifier(use_label_encoder=False, objective = \"multi:softprob\", num_class = 2, eval_metric =   \n",
    "\"mlogloss\", max_depth = 24, gamma=0.1, subsample = 0.90,learning_rate=0.01,              \n",
    "n_estimators = 10, nthread=-1)                                       \n",
    "\n",
    "# Sesuaikan dengan data X_train (data frame tanpa atribut fraud) dan \n",
    "# Y_train (data frame yang berisi atribut fraud dengan nilai 0 dan 1)\n",
    "clf_XGB_mm.fit(X_train_minmax, Y_train)                         \n",
    "\n",
    "# Menyimpan prediksi dari X_test (data test tanpa atribut fraud)\n",
    "# Menyimpan nilai akurasi yang diperoleh dari hasil prediksi yang dites dengan Y_test\n",
    "Y_pred = clf_XGB_mm.predict(X_test_minmax)                                                         \n",
    "acc = accuracy_score(Y_test, Y_pred)                                                     \n",
    "\n",
    "# Menampilkan output akurasi\n",
    "print(\"Akurasi {}\".format(acc))                                                           \n",
    "print(classification_report(Y_test, Y_pred))     "
   ]
  },
  {
   "cell_type": "markdown",
   "id": "b0c3d15e",
   "metadata": {},
   "source": [
    "Dengan menggunakan minmax scaler, f1 score pada fraud 1 tidak mengalami perubahan dengan kinerja yang sebelumnya."
   ]
  },
  {
   "cell_type": "markdown",
   "id": "fb3b08a6",
   "metadata": {},
   "source": [
    "## SS (Standar Scaler)"
   ]
  },
  {
   "cell_type": "code",
   "execution_count": 26,
   "id": "70ba8e16",
   "metadata": {},
   "outputs": [],
   "source": [
    "ss_scaler = preprocessing.StandardScaler()\n",
    "X_train_ss = mm_scaler.fit_transform(X_train)\n",
    "X_test_ss = mm_scaler.transform(X_test)"
   ]
  },
  {
   "cell_type": "code",
   "execution_count": 27,
   "id": "90bd3ce3",
   "metadata": {},
   "outputs": [
    {
     "name": "stdout",
     "output_type": "stream",
     "text": [
      "Akurasi 0.9893617021276596\n",
      "              precision    recall  f1-score   support\n",
      "\n",
      "           0       0.99      1.00      0.99       361\n",
      "           1       1.00      0.73      0.85        15\n",
      "\n",
      "    accuracy                           0.99       376\n",
      "   macro avg       0.99      0.87      0.92       376\n",
      "weighted avg       0.99      0.99      0.99       376\n",
      "\n"
     ]
    }
   ],
   "source": [
    "# Memanggil model XGBoost yang ditampung pada variabel clf_XGB_ss\n",
    "clf_XGB_ss = xgb.XGBClassifier(use_label_encoder=False, objective = \"multi:softprob\", num_class = 2, eval_metric = \"mlogloss\", \n",
    "max_depth = 24, gamma=0.1, subsample = 0.90,learning_rate=0.01, n_estimators = 10, nthread=-1)                                                           \n",
    "\n",
    "# Sesuaikan dengan data X_train (data frame tanpa atribut fraud) dan \n",
    "# Y_train (data frame yang berisi atribut fraud dengan nilai 0 dan 1)\n",
    "clf_XGB_ss.fit(X_train_ss, Y_train)                                                          \n",
    "\n",
    "# Menyimpan prediksi dari X_test (data test tanpa atribut fraud)\n",
    "# Menyimpan nilai akurasi yang diperoleh dari hasil prediksi yang dites dengan Y_test\n",
    "Y_pred = clf_XGB_ss.predict(X_test_ss)                                                         \n",
    "acc = accuracy_score(Y_test, Y_pred)         \n",
    "\n",
    "# Menampilkan output akurasi \n",
    "# Menampikan hasil klasifikasi\n",
    "print(\"Akurasi {}\".format(acc))                                                        \n",
    "print(classification_report(Y_test, Y_pred))                                            "
   ]
  },
  {
   "cell_type": "markdown",
   "id": "7e9fd463",
   "metadata": {},
   "source": [
    "Dengan menggunakan standar scaler, f1 score pada fraud 1 tidak mengalami perubahan dengan kinerja yang sebelumnya."
   ]
  },
  {
   "cell_type": "markdown",
   "id": "020b9467",
   "metadata": {},
   "source": [
    "## Feature Engineering\n",
    "### Penambahan Atribut Baru (totalItems)"
   ]
  },
  {
   "cell_type": "code",
   "execution_count": 28,
   "id": "c511a780",
   "metadata": {},
   "outputs": [],
   "source": [
    "X[\"totalItems\"] = X[\"scannedLineItemsPerSecond\"] * X[\"totalScanTimeInSeconds\"]"
   ]
  },
  {
   "cell_type": "code",
   "execution_count": 29,
   "id": "eea153a0",
   "metadata": {},
   "outputs": [],
   "source": [
    "X_train,X_test,Y_train,Y_test=train_test_split(X,Y,test_size=0.2,random_state=123)"
   ]
  },
  {
   "cell_type": "code",
   "execution_count": 30,
   "id": "c1cac532",
   "metadata": {},
   "outputs": [
    {
     "name": "stdout",
     "output_type": "stream",
     "text": [
      "Akurasi 0.9893617021276596\n",
      "              precision    recall  f1-score   support\n",
      "\n",
      "           0       0.99      1.00      0.99       361\n",
      "           1       0.92      0.80      0.86        15\n",
      "\n",
      "    accuracy                           0.99       376\n",
      "   macro avg       0.96      0.90      0.93       376\n",
      "weighted avg       0.99      0.99      0.99       376\n",
      "\n"
     ]
    }
   ],
   "source": [
    " # Memanggil model XGBoost yang ditampung pada variabel clf_XGB\n",
    "clf_XGB_new_atribut = xgb.XGBClassifier(use_label_encoder=False, objective = \"multi:softprob\", num_class = 2, \n",
    "    eval_metric = \"mlogloss\", max_depth = 24, gamma=0.1, subsample = 0.90,learning_rate=0.01, n_estimators = 10, nthread=-1)                                                           \n",
    "\n",
    "# Sesuaikan dengan data X_train (data frame tanpa atribut fraud) dan \n",
    "# Y_train (data frame yang berisi atribut fraud dengan nilai 0 dan 1)\n",
    "clf_XGB_new_atribut.fit(X_train, Y_train)                                                           \n",
    "\n",
    "# Menyimpan prediksi dari X_test (data test tanpa atribut fraud)\n",
    "# Menyimpan nilai akurasi yang diperoleh dari hasil prediksi yang dites dengan Y_test\n",
    "Y_pred = clf_XGB_new_atribut.predict(X_test)                                                         \n",
    "acc = accuracy_score(Y_test, Y_pred)                                                   \n",
    "\n",
    "# Menampilkan output akurasi\n",
    "# Menampikan hasil klasifikasi\n",
    "print(\"Akurasi {}\".format(acc))                                                           \n",
    "print(classification_report(Y_test, Y_pred))                                            "
   ]
  },
  {
   "cell_type": "markdown",
   "id": "7b590396",
   "metadata": {},
   "source": [
    "Dengan menambahkan atribut baru pada dataframe, kinerja model mengalami peningkatan ditandai dengan perubahan nilai f1 score pada fraud 1, dari 0.85 menjadi 0.86."
   ]
  },
  {
   "cell_type": "markdown",
   "id": "cb632c99",
   "metadata": {},
   "source": [
    "## PCA (Principal Component Analysis)"
   ]
  },
  {
   "cell_type": "code",
   "execution_count": 31,
   "id": "c9e315af",
   "metadata": {},
   "outputs": [],
   "source": [
    "from sklearn.decomposition import PCA\n",
    "ss_scaler = preprocessing.StandardScaler()\n",
    "X_train_ss = mm_scaler.fit_transform(X_train) #fit hanya di train\n",
    "X_test_ss = mm_scaler.transform(X_test)\n",
    "pca = PCA(.75)\n",
    "X_train_pca = pca.fit_transform(X_train_ss)\n",
    "X_test_pca = pca.transform(X_test_ss)"
   ]
  },
  {
   "cell_type": "code",
   "execution_count": 32,
   "id": "bd5f02bb",
   "metadata": {},
   "outputs": [
    {
     "name": "stdout",
     "output_type": "stream",
     "text": [
      "Akurasi 0.9946808510638298\n",
      "              precision    recall  f1-score   support\n",
      "\n",
      "           0       0.99      1.00      1.00       361\n",
      "           1       1.00      0.87      0.93        15\n",
      "\n",
      "    accuracy                           0.99       376\n",
      "   macro avg       1.00      0.93      0.96       376\n",
      "weighted avg       0.99      0.99      0.99       376\n",
      "\n"
     ]
    }
   ],
   "source": [
    " # Memanggil model XGBoost yang ditampung pada variabel clf_XGB\n",
    "clf_XGB_pca = xgb.XGBClassifier(use_label_encoder=False, objective = \"multi:softprob\", num_class = 2, eval_metric =  \n",
    "\"mlogloss\", max_depth = 24, gamma=0.1, subsample = 0.90,learning_rate=0.01, n_estimators = 10, nthread=-1)                                                           \n",
    "\n",
    "# Sesuaikan dengan data X_train (data frame tanpa atribut fraud) dan \n",
    "# Y_train (data frame yang berisi atribut fraud dengan nilai 0 dan 1)\n",
    "clf_XGB_pca.fit(X_train_pca, Y_train)                                \n",
    "\n",
    "# Menyimpan prediksi dari X_test (data test tanpa atribut fraud)\n",
    "# Menyimpan nilai akurasi yang diperoleh dari hasil prediksi yang dites dengan Y_test\n",
    "Y_pred = clf_XGB_pca.predict(X_test_pca)                                                       \n",
    "acc = accuracy_score(Y_test, Y_pred) \n",
    "\n",
    "# Menampilkan output akurasi dan klasifikasi\n",
    "print(\"Akurasi {}\".format(acc))                                                         \n",
    "print(classification_report(Y_test, Y_pred))  "
   ]
  },
  {
   "cell_type": "markdown",
   "id": "e67af083",
   "metadata": {},
   "source": [
    "Dengan menggunakan PCA dan standar scaler, kinerja model menjadi lebih baik, ditandai dengan f1 score pada fraud 1 bernilai 0.93 yang sebelumnya, jika tidak menggunakan PCA, bernilai 0.86.\n",
    "\n",
    "## Tuning\n",
    "\n",
    "### Mengubah subsample dari 0.90 menjadi 0.50"
   ]
  },
  {
   "cell_type": "code",
   "execution_count": 33,
   "id": "cf5b7e29",
   "metadata": {},
   "outputs": [
    {
     "name": "stdout",
     "output_type": "stream",
     "text": [
      "Akurasi 0.9920212765957447\n",
      "              precision    recall  f1-score   support\n",
      "\n",
      "           0       0.99      1.00      1.00       361\n",
      "           1       0.93      0.87      0.90        15\n",
      "\n",
      "    accuracy                           0.99       376\n",
      "   macro avg       0.96      0.93      0.95       376\n",
      "weighted avg       0.99      0.99      0.99       376\n",
      "\n"
     ]
    }
   ],
   "source": [
    "# Memanggil model XGBoost yang ditampung pada variabel clf_XGB\n",
    "clf_XGB = xgb.XGBClassifier(use_label_encoder=False, objective = \"multi:softprob\", num_class = 2, eval_metric = \"mlogloss\", \n",
    "                            max_depth = 24, gamma=0.1, subsample = 0.50,learning_rate=0.01, n_estimators = 10, nthread=-1)                                                           \n",
    "\n",
    "# Sesuaikan dengan data X_train (data frame tanpa atribut fraud) dan [[\n",
    "# Y_train (data frame yang berisi atribut fraud dengan nilai 0 dan 1)]]\n",
    "clf_XGB.fit(X_train, Y_train)                                                          \n",
    "\n",
    "# Menyimpan prediksi dari X_test (data test tanpa atribut fraud)\n",
    "# Menyimpan nilai akurasi yang diperoleh dari hasil prediksi yang dites dengan Y_test\n",
    "Y_pred = clf_XGB.predict(X_test)                                                        \n",
    "acc = accuracy_score(Y_test, Y_pred)                                                   \n",
    "\n",
    "# Menampilkan output akurasi\n",
    "# Menampikan hasil klasifikasi\n",
    "print(\"Akurasi {}\".format(acc))                                                         \n",
    "print(classification_report(Y_test, Y_pred))                                           "
   ]
  },
  {
   "cell_type": "markdown",
   "id": "910518bd",
   "metadata": {},
   "source": [
    "Setelah mengubah hyperparameter subsample dari 0.90 menjadi 0.50, kinerja menurun jika dibandingkan dengan penggunaan PCA dan standar scaler yang ditandai nilai f1 score pada fraud 1 bernilai 0.90. Maka dari itu, dapat diketahui bahwa perubahan hyperparameter ini akan memengaruhi kinerja model.\n",
    "\n",
    "### Mengubah subsample, learning_rate, n_estimators"
   ]
  },
  {
   "cell_type": "code",
   "execution_count": 34,
   "id": "c683f302",
   "metadata": {},
   "outputs": [
    {
     "name": "stdout",
     "output_type": "stream",
     "text": [
      "Akurasi 0.9946808510638298\n",
      "              precision    recall  f1-score   support\n",
      "\n",
      "           0       1.00      1.00      1.00       361\n",
      "           1       0.93      0.93      0.93        15\n",
      "\n",
      "    accuracy                           0.99       376\n",
      "   macro avg       0.97      0.97      0.97       376\n",
      "weighted avg       0.99      0.99      0.99       376\n",
      "\n"
     ]
    }
   ],
   "source": [
    "# Memanggil model XGBoost yang ditampung pada variabel clf_XGB\n",
    "clf_XGB = xgb.XGBClassifier(use_label_encoder=False, objective = \"multi:softprob\", num_class = 2, eval_metric =  \"mlogloss\", \n",
    "                            max_depth = 24, gamma=0.1, subsample = 0.50,learning_rate=0.5, n_estimators = 20, nthread=-1)                                                           \n",
    "\n",
    "# Sesuaikan dengan data X_train (data frame tanpa atribut fraud) dan \n",
    "# Y_train (data frame yang berisi atribut fraud dengan nilai 0 dan 1)\n",
    "clf_XGB.fit(X_train, Y_train)                                     \n",
    "\n",
    "# Menyimpan prediksi dari X_test (data test tanpa atribut fraud)\n",
    "# Menyimpan nilai akurasi yang diperoleh dari hasil prediksi yang dites dengan Y_test\n",
    "Y_pred = clf_XGB.predict(X_test)                                                       \n",
    "acc = accuracy_score(Y_test, Y_pred)                                                   \n",
    "\n",
    "# Menampilkan output akurasi\n",
    "# Menampikan hasil klasifikasi\n",
    "print(\"Akurasi {}\".format(acc))                                                          \n",
    "print(classification_report(Y_test, Y_pred))                                            "
   ]
  },
  {
   "cell_type": "markdown",
   "id": "d5675bd1",
   "metadata": {},
   "source": [
    "Setelah mengubah 3 hyperparameter yaitu:\n",
    "- subsample dari 0.9 menjadi 0.5\n",
    "- n_estimators dari 10 menjadi 20\n",
    "- learning rate pada xgboost dari 0.01 menjadi 0.1, \n",
    "\n",
    "Dengan kombinasi ketiganya dibandingkan dengan sebelum perubahan \n",
    "- fraud(0) 0.99 -> 1.00\n",
    "- fraud(1) 0.86 -> 0.93\n",
    "\n",
    "Kemudian, jika dibandingkan dengan perbaikan model PCA dan standar scaler, dapat dikatakan kinerja model dengan perbaikan tuning lebih baik hal ini disebabkan recall yang dihasilkan dari perbaikan tuning (recall = 0.93) lebih tinggi nilainya dibanding perbaikan PCA dan standar scaler (recall = 0.87)."
   ]
  }
 ],
 "metadata": {
  "interpreter": {
   "hash": "009c6260f8c949f949e8d5c80e91b7d11da42068722b763148e110eb4d6efd9c"
  },
  "kernelspec": {
   "display_name": "Python 3",
   "language": "python",
   "name": "python3"
  },
  "language_info": {
   "codemirror_mode": {
    "name": "ipython",
    "version": 3
   },
   "file_extension": ".py",
   "mimetype": "text/x-python",
   "name": "python",
   "nbconvert_exporter": "python",
   "pygments_lexer": "ipython3",
   "version": "3.8.8"
  }
 },
 "nbformat": 4,
 "nbformat_minor": 5
}
